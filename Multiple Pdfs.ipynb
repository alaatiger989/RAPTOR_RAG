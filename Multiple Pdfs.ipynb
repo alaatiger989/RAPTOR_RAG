{
 "cells": [
  {
   "cell_type": "code",
   "execution_count": 1,
   "id": "0fcd340d-e344-4d06-81d9-272b7dbc685f",
   "metadata": {},
   "outputs": [],
   "source": [
    "import locale"
   ]
  },
  {
   "cell_type": "code",
   "execution_count": 2,
   "id": "5981eda6-4352-4a75-be2f-23790c1b6349",
   "metadata": {},
   "outputs": [],
   "source": [
    "def getpreferredencoding(do_setlocale = True):\n",
    "  return \"UTF-8\"\n",
    "locale.getpreferredencoding = getpreferredencoding"
   ]
  },
  {
   "cell_type": "markdown",
   "id": "d16e4961-2756-4e23-8ae2-ad0bce7a7425",
   "metadata": {},
   "source": [
    "# Instantiate the LLM"
   ]
  },
  {
   "cell_type": "code",
   "execution_count": 3,
   "id": "21c98b6c-f55b-41e3-a144-7069cd4048bd",
   "metadata": {},
   "outputs": [],
   "source": [
    "from langchain_community.llms import LlamaCpp\n",
    "from langchain_core.callbacks import CallbackManager, StreamingStdOutCallbackHandler\n",
    "from langchain_core.prompts import PromptTemplate"
   ]
  },
  {
   "cell_type": "code",
   "execution_count": 4,
   "id": "1a2f3c69-1f5f-4212-aba7-f923e8787eb1",
   "metadata": {},
   "outputs": [],
   "source": [
    "#\n",
    "n_gpu_layers = -1  # The number of layers to put on the GPU. The rest will be on the CPU. If you don't know how many layers there are, you can use -1 to move all to GPU.\n",
    "n_batch = 512  # Should be between 1 and n_ctx, consider the amount of VRAM in your GPU.\n",
    "#"
   ]
  },
  {
   "cell_type": "code",
   "execution_count": 5,
   "id": "59d1d704-9712-4e63-8911-704ade65cdee",
   "metadata": {},
   "outputs": [],
   "source": [
    "# Callbacks support token-wise streaming\n",
    "callback_manager = CallbackManager([StreamingStdOutCallbackHandler()])\n",
    "#"
   ]
  },
  {
   "cell_type": "code",
   "execution_count": 6,
   "id": "f1ba3f1e-11d6-4a82-80a1-00223ed47e3f",
   "metadata": {},
   "outputs": [
    {
     "name": "stderr",
     "output_type": "stream",
     "text": [
      "llama_model_loader: loaded meta data with 21 key-value pairs and 291 tensors from C:/Users/Alaa AI/Python Projects/Projects/Chat With Files/RAPTOR/First Try/zephyr-7b-beta.Q4_K_M.gguf (version GGUF V3 (latest))\n",
      "llama_model_loader: Dumping metadata keys/values. Note: KV overrides do not apply in this output.\n",
      "llama_model_loader: - kv   0:                       general.architecture str              = llama\n",
      "llama_model_loader: - kv   1:                               general.name str              = huggingfaceh4_zephyr-7b-beta\n",
      "llama_model_loader: - kv   2:                       llama.context_length u32              = 32768\n",
      "llama_model_loader: - kv   3:                     llama.embedding_length u32              = 4096\n",
      "llama_model_loader: - kv   4:                          llama.block_count u32              = 32\n",
      "llama_model_loader: - kv   5:                  llama.feed_forward_length u32              = 14336\n",
      "llama_model_loader: - kv   6:                 llama.rope.dimension_count u32              = 128\n",
      "llama_model_loader: - kv   7:                 llama.attention.head_count u32              = 32\n",
      "llama_model_loader: - kv   8:              llama.attention.head_count_kv u32              = 8\n",
      "llama_model_loader: - kv   9:     llama.attention.layer_norm_rms_epsilon f32              = 0.000010\n",
      "llama_model_loader: - kv  10:                       llama.rope.freq_base f32              = 10000.000000\n",
      "llama_model_loader: - kv  11:                          general.file_type u32              = 15\n",
      "llama_model_loader: - kv  12:                       tokenizer.ggml.model str              = llama\n",
      "llama_model_loader: - kv  13:                      tokenizer.ggml.tokens arr[str,32000]   = [\"<unk>\", \"<s>\", \"</s>\", \"<0x00>\", \"<...\n",
      "llama_model_loader: - kv  14:                      tokenizer.ggml.scores arr[f32,32000]   = [0.000000, 0.000000, 0.000000, 0.0000...\n",
      "llama_model_loader: - kv  15:                  tokenizer.ggml.token_type arr[i32,32000]   = [2, 3, 3, 6, 6, 6, 6, 6, 6, 6, 6, 6, ...\n",
      "llama_model_loader: - kv  16:                tokenizer.ggml.bos_token_id u32              = 1\n",
      "llama_model_loader: - kv  17:                tokenizer.ggml.eos_token_id u32              = 2\n",
      "llama_model_loader: - kv  18:            tokenizer.ggml.unknown_token_id u32              = 0\n",
      "llama_model_loader: - kv  19:            tokenizer.ggml.padding_token_id u32              = 2\n",
      "llama_model_loader: - kv  20:               general.quantization_version u32              = 2\n",
      "llama_model_loader: - type  f32:   65 tensors\n",
      "llama_model_loader: - type q4_K:  193 tensors\n",
      "llama_model_loader: - type q6_K:   33 tensors\n",
      "llm_load_vocab: special tokens definition check successful ( 259/32000 ).\n",
      "llm_load_print_meta: format           = GGUF V3 (latest)\n",
      "llm_load_print_meta: arch             = llama\n",
      "llm_load_print_meta: vocab type       = SPM\n",
      "llm_load_print_meta: n_vocab          = 32000\n",
      "llm_load_print_meta: n_merges         = 0\n",
      "llm_load_print_meta: n_ctx_train      = 32768\n",
      "llm_load_print_meta: n_embd           = 4096\n",
      "llm_load_print_meta: n_head           = 32\n",
      "llm_load_print_meta: n_head_kv        = 8\n",
      "llm_load_print_meta: n_layer          = 32\n",
      "llm_load_print_meta: n_rot            = 128\n",
      "llm_load_print_meta: n_embd_head_k    = 128\n",
      "llm_load_print_meta: n_embd_head_v    = 128\n",
      "llm_load_print_meta: n_gqa            = 4\n",
      "llm_load_print_meta: n_embd_k_gqa     = 1024\n",
      "llm_load_print_meta: n_embd_v_gqa     = 1024\n",
      "llm_load_print_meta: f_norm_eps       = 0.0e+00\n",
      "llm_load_print_meta: f_norm_rms_eps   = 1.0e-05\n",
      "llm_load_print_meta: f_clamp_kqv      = 0.0e+00\n",
      "llm_load_print_meta: f_max_alibi_bias = 0.0e+00\n",
      "llm_load_print_meta: f_logit_scale    = 0.0e+00\n",
      "llm_load_print_meta: n_ff             = 14336\n",
      "llm_load_print_meta: n_expert         = 0\n",
      "llm_load_print_meta: n_expert_used    = 0\n",
      "llm_load_print_meta: causal attn      = 1\n",
      "llm_load_print_meta: pooling type     = 0\n",
      "llm_load_print_meta: rope type        = 0\n",
      "llm_load_print_meta: rope scaling     = linear\n",
      "llm_load_print_meta: freq_base_train  = 10000.0\n",
      "llm_load_print_meta: freq_scale_train = 1\n",
      "llm_load_print_meta: n_yarn_orig_ctx  = 32768\n",
      "llm_load_print_meta: rope_finetuned   = unknown\n",
      "llm_load_print_meta: ssm_d_conv       = 0\n",
      "llm_load_print_meta: ssm_d_inner      = 0\n",
      "llm_load_print_meta: ssm_d_state      = 0\n",
      "llm_load_print_meta: ssm_dt_rank      = 0\n",
      "llm_load_print_meta: model type       = 7B\n",
      "llm_load_print_meta: model ftype      = Q4_K - Medium\n",
      "llm_load_print_meta: model params     = 7.24 B\n",
      "llm_load_print_meta: model size       = 4.07 GiB (4.83 BPW) \n",
      "llm_load_print_meta: general.name     = huggingfaceh4_zephyr-7b-beta\n",
      "llm_load_print_meta: BOS token        = 1 '<s>'\n",
      "llm_load_print_meta: EOS token        = 2 '</s>'\n",
      "llm_load_print_meta: UNK token        = 0 '<unk>'\n",
      "llm_load_print_meta: PAD token        = 2 '</s>'\n",
      "llm_load_print_meta: LF token         = 13 '<0x0A>'\n",
      "llm_load_tensors: ggml ctx size =    0.22 MiB\n",
      "llm_load_tensors: offloading 32 repeating layers to GPU\n",
      "llm_load_tensors: offloading non-repeating layers to GPU\n",
      "llm_load_tensors: offloaded 33/33 layers to GPU\n",
      "llm_load_tensors:        CPU buffer size =    70.31 MiB\n",
      "llm_load_tensors:      CUDA0 buffer size =  4095.05 MiB\n",
      ".................................................................................................\n",
      "llama_new_context_with_model: n_ctx      = 35008\n",
      "llama_new_context_with_model: n_batch    = 512\n",
      "llama_new_context_with_model: n_ubatch   = 512\n",
      "llama_new_context_with_model: freq_base  = 10000.0\n",
      "llama_new_context_with_model: freq_scale = 1\n",
      "llama_kv_cache_init:      CUDA0 KV buffer size =  4376.00 MiB\n",
      "llama_new_context_with_model: KV self size  = 4376.00 MiB, K (f16): 2188.00 MiB, V (f16): 2188.00 MiB\n",
      "llama_new_context_with_model:  CUDA_Host  output buffer size =     0.12 MiB\n",
      "llama_new_context_with_model:      CUDA0 compute buffer size =  2288.38 MiB\n",
      "llama_new_context_with_model:  CUDA_Host compute buffer size =    76.38 MiB\n",
      "llama_new_context_with_model: graph nodes  = 1030\n",
      "llama_new_context_with_model: graph splits = 2\n",
      "AVX = 1 | AVX_VNNI = 0 | AVX2 = 1 | AVX512 = 0 | AVX512_VBMI = 0 | AVX512_VNNI = 0 | FMA = 1 | NEON = 0 | ARM_FMA = 0 | F16C = 1 | FP16_VA = 0 | WASM_SIMD = 0 | BLAS = 1 | SSE3 = 1 | SSSE3 = 0 | VSX = 0 | MATMUL_INT8 = 0 | \n",
      "Model metadata: {'general.name': 'huggingfaceh4_zephyr-7b-beta', 'general.architecture': 'llama', 'llama.context_length': '32768', 'llama.rope.dimension_count': '128', 'llama.embedding_length': '4096', 'llama.block_count': '32', 'llama.feed_forward_length': '14336', 'llama.attention.head_count': '32', 'tokenizer.ggml.eos_token_id': '2', 'general.file_type': '15', 'llama.attention.head_count_kv': '8', 'llama.attention.layer_norm_rms_epsilon': '0.000010', 'llama.rope.freq_base': '10000.000000', 'tokenizer.ggml.model': 'llama', 'general.quantization_version': '2', 'tokenizer.ggml.bos_token_id': '1', 'tokenizer.ggml.unknown_token_id': '0', 'tokenizer.ggml.padding_token_id': '2'}\n",
      "Using fallback chat format: None\n"
     ]
    }
   ],
   "source": [
    "# Make sure the model path is correct for your system!\n",
    "model = LlamaCpp(\n",
    "    model_path=\"C:/Users/Alaa AI/Python Projects/Projects/Chat With Files/RAPTOR/First Try/zephyr-7b-beta.Q4_K_M.gguf\",\n",
    "    n_gpu_layers=n_gpu_layers,\n",
    "    n_batch=n_batch,\n",
    "    temperature=0.75,\n",
    "    max_tokens=1000,\n",
    "    top_p=1,\n",
    "    n_ctx=35000,\n",
    "    callback_manager=callback_manager,\n",
    "    verbose=True,  # Verbose is required to pass to the callback manager\n",
    ")"
   ]
  },
  {
   "cell_type": "markdown",
   "id": "ce454dc7-857d-46a7-8cca-9ed47e91c69f",
   "metadata": {},
   "source": [
    "# Instantiate the embedding Model."
   ]
  },
  {
   "cell_type": "code",
   "execution_count": 7,
   "id": "9cebe8f9-65b6-4b93-8430-6433dee0e7cf",
   "metadata": {},
   "outputs": [],
   "source": [
    "from langchain.vectorstores import Chroma\n",
    "from langchain_community.embeddings import HuggingFaceEmbeddings\n",
    "from langchain_community.vectorstores.utils import DistanceStrategy"
   ]
  },
  {
   "cell_type": "code",
   "execution_count": 8,
   "id": "8a5c6031-27d4-4a69-a03d-5ed2ec845505",
   "metadata": {},
   "outputs": [],
   "source": [
    "#\n",
    "EMBEDDING_MODEL_NAME = \"thenlper/gte-small\""
   ]
  },
  {
   "cell_type": "code",
   "execution_count": 9,
   "id": "62836d98-8460-45ac-8a3e-3e58e775dc40",
   "metadata": {},
   "outputs": [
    {
     "name": "stderr",
     "output_type": "stream",
     "text": [
      "C:\\Users\\Administrator\\anaconda3\\envs\\alaa_ai_env\\lib\\site-packages\\tqdm\\auto.py:21: TqdmWarning: IProgress not found. Please update jupyter and ipywidgets. See https://ipywidgets.readthedocs.io/en/stable/user_install.html\n",
      "  from .autonotebook import tqdm as notebook_tqdm\n"
     ]
    }
   ],
   "source": [
    "embd = HuggingFaceEmbeddings(\n",
    "    model_name=EMBEDDING_MODEL_NAME,\n",
    "    multi_process=True,\n",
    "    model_kwargs={\"device\": \"cuda\"},\n",
    "    encode_kwargs={\"normalize_embeddings\": True},  # set True for cosine similarity\n",
    ")"
   ]
  },
  {
   "cell_type": "markdown",
   "id": "fc13929b-866f-44f2-b30e-e1f51e4e3365",
   "metadata": {},
   "source": [
    "# Load the Data\n",
    "\n",
    "# Here we have used LangChain’s LCEL documentation as input data"
   ]
  },
  {
   "cell_type": "code",
   "execution_count": 10,
   "id": "de78a2d1-828e-4098-9df8-b3906568d954",
   "metadata": {},
   "outputs": [],
   "source": [
    "import matplotlib.pyplot as plt\n",
    "import tiktoken\n",
    "from bs4 import BeautifulSoup as Soup\n",
    "from langchain_community.document_loaders.recursive_url_loader import RecursiveUrlLoader"
   ]
  },
  {
   "cell_type": "code",
   "execution_count": 11,
   "id": "128515ee-bc2d-45af-9e0e-9ad104fef76b",
   "metadata": {},
   "outputs": [],
   "source": [
    "## Helper Fuction to count the number of Tokensin each text\n",
    "def num_tokens_from_string(string: str, encoding_name: str) -> int:\n",
    "    \"\"\"Returns the number of tokens in a text string.\"\"\"\n",
    "    encoding = tiktoken.get_encoding(encoding_name)\n",
    "    num_tokens = len(encoding.encode(string))\n",
    "    return num_tokens"
   ]
  },
  {
   "cell_type": "code",
   "execution_count": 12,
   "id": "18cf09eb-497c-4000-a125-d9e848c0b933",
   "metadata": {},
   "outputs": [],
   "source": [
    "# LCEL docs\n",
    "# url = \"https://python.langchain.com/docs/expression_language/\"\n",
    "# loader = RecursiveUrlLoader(\n",
    "#     url=url, max_depth=20, extractor=lambda x: Soup(x, \"html.parser\").text\n",
    "# )"
   ]
  },
  {
   "cell_type": "code",
   "execution_count": 13,
   "id": "1510a0e3-93df-4332-aeaa-b4868c3ac129",
   "metadata": {},
   "outputs": [],
   "source": [
    "# docs = loader.load()"
   ]
  },
  {
   "cell_type": "code",
   "execution_count": 14,
   "id": "7f882d27-43ba-4c9e-a6e3-5986cc5734ed",
   "metadata": {},
   "outputs": [],
   "source": [
    "# # LCEL w/ PydanticOutputParser (outside the primary LCEL docs)\n",
    "# url = \"https://python.langchain.com/docs/modules/model_io/output_parsers/quick_start\"\n",
    "# loader = RecursiveUrlLoader(\n",
    "#     url=url, max_depth=1, extractor=lambda x: Soup(x, \"html.parser\").text\n",
    "# )"
   ]
  },
  {
   "cell_type": "code",
   "execution_count": 15,
   "id": "829b26ba-cfb3-4718-be13-8375473d095e",
   "metadata": {},
   "outputs": [],
   "source": [
    "# docs_pydantic = loader.load()"
   ]
  },
  {
   "cell_type": "code",
   "execution_count": 74,
   "id": "154aa372-7555-43e9-9fc7-5658454c7693",
   "metadata": {},
   "outputs": [],
   "source": [
    "# LCEL w/ Self Query (outside the primary LCEL docs)\n",
    "# url = \"https://python.langchain.com/docs/modules/data_connection/retrievers/self_query/\"\n",
    "# loader = RecursiveUrlLoader(\n",
    "#     url=url, max_depth=1, extractor=lambda x: Soup(x, \"html.parser\").text\n",
    "# )"
   ]
  },
  {
   "cell_type": "code",
   "execution_count": 75,
   "id": "2c6ae356-f655-4ea3-9461-580190802d92",
   "metadata": {},
   "outputs": [],
   "source": [
    "# docs_sq = loader.load()"
   ]
  },
  {
   "cell_type": "code",
   "execution_count": 18,
   "id": "8f154f6b-dfdb-46c6-aa7e-e63088f0dc05",
   "metadata": {},
   "outputs": [],
   "source": [
    "# # Doc texts\n",
    "# docs.extend([*docs_pydantic, *docs_sq])\n",
    "# docs_texts = [d.page_content for d in docs]"
   ]
  },
  {
   "cell_type": "code",
   "execution_count": 12,
   "id": "a8b8a7a5-0483-491a-a8da-a51c05f2bd2c",
   "metadata": {},
   "outputs": [],
   "source": [
    "from langchain.document_loaders import PyPDFDirectoryLoader"
   ]
  },
  {
   "cell_type": "code",
   "execution_count": 13,
   "id": "ac492144-030b-4e77-bb77-d19a5a40bb4e",
   "metadata": {},
   "outputs": [],
   "source": [
    "knowledge_base_loader = PyPDFDirectoryLoader(\"pdfs\")\n",
    "knowledge_base = knowledge_base_loader.load()"
   ]
  },
  {
   "cell_type": "code",
   "execution_count": 14,
   "id": "788b98b4-54af-4dd8-9c07-456c2ab7569b",
   "metadata": {},
   "outputs": [],
   "source": [
    "docs_texts = [d.page_content for d in knowledge_base]"
   ]
  },
  {
   "cell_type": "markdown",
   "id": "24077252-e133-4664-812e-18d55fabce9d",
   "metadata": {},
   "source": [
    "# Check how large our original documents are by calculating the number of tokens for each document and visualize using a histogram"
   ]
  },
  {
   "cell_type": "code",
   "execution_count": 15,
   "id": "6735e1bf-babb-41dd-b18f-2a7a5af301e4",
   "metadata": {},
   "outputs": [
    {
     "data": {
      "image/png": "[encoded data removed]",
      "text/plain": [
       "<Figure size 1000x600 with 1 Axes>"
      ]
     },
     "metadata": {},
     "output_type": "display_data"
    }
   ],
   "source": [
    "counts = [num_tokens_from_string(d, \"cl100k_base\") for d in docs_texts]\n",
    "\n",
    "# Plotting the histogram of token counts\n",
    "plt.figure(figsize=(10, 6))\n",
    "plt.hist(counts, bins=30, color=\"blue\", edgecolor=\"black\", alpha=0.7)\n",
    "plt.title(\"Histogram of Token Counts\")\n",
    "plt.xlabel(\"Token Count\")\n",
    "plt.ylabel(\"Frequency\")\n",
    "plt.grid(axis=\"y\", alpha=0.75)\n",
    "\n",
    "# Display the histogram\n",
    "plt.show()"
   ]
  },
  {
   "cell_type": "markdown",
   "id": "598ffb5d-5dbb-40ac-97fa-5afe92cd5372",
   "metadata": {},
   "source": [
    "# Check if all the documents fit within the context window of our document."
   ]
  },
  {
   "cell_type": "code",
   "execution_count": 16,
   "id": "153d0e49-50eb-4d97-871b-3fcd535cbebb",
   "metadata": {},
   "outputs": [
    {
     "name": "stdout",
     "output_type": "stream",
     "text": [
      "Num tokens in all context: 6310\n"
     ]
    }
   ],
   "source": [
    "# Doc texts concat\n",
    "d_sorted = sorted(knowledge_base, key=lambda x: x.metadata[\"source\"])\n",
    "d_reversed = list(reversed(d_sorted))\n",
    "concatenated_content = \"\\n\\n\\n --- \\n\\n\\n\".join(\n",
    "    [doc.page_content for doc in d_reversed]\n",
    ")\n",
    "print(\n",
    "    \"Num tokens in all context: %s\"\n",
    "    % num_tokens_from_string(concatenated_content, \"cl100k_base\")\n",
    ")"
   ]
  },
  {
   "cell_type": "markdown",
   "id": "2f6151ac-b35b-40e0-be5a-ff97c95e5397",
   "metadata": {},
   "source": [
    "# Chunk the documents in order to fit within the context window of our LLM."
   ]
  },
  {
   "cell_type": "code",
   "execution_count": 17,
   "id": "dd782aca-4449-4757-9e00-6b6ea2204f64",
   "metadata": {},
   "outputs": [],
   "source": [
    "# Doc texts split\n",
    "from langchain_text_splitters import RecursiveCharacterTextSplitter"
   ]
  },
  {
   "cell_type": "code",
   "execution_count": 18,
   "id": "e7675d07-5643-4f95-a1e1-6ff4ea54bef8",
   "metadata": {},
   "outputs": [],
   "source": [
    "chunk_size_tok = 1000\n",
    "text_splitter = RecursiveCharacterTextSplitter.from_tiktoken_encoder(\n",
    "    chunk_size=chunk_size_tok, chunk_overlap=500\n",
    ")"
   ]
  },
  {
   "cell_type": "code",
   "execution_count": 19,
   "id": "350e8931-5fc2-4614-b6d9-76925df50c0d",
   "metadata": {},
   "outputs": [
    {
     "name": "stdout",
     "output_type": "stream",
     "text": [
      "Number of text splits generated: 17\n"
     ]
    }
   ],
   "source": [
    "texts_split = text_splitter.split_text(concatenated_content)\n",
    "#\n",
    "print(f\"Number of text splits generated: {len(texts_split)}\")"
   ]
  },
  {
   "cell_type": "markdown",
   "id": "b7482dcd-456a-427a-b27b-5500e5403061",
   "metadata": {},
   "source": [
    "# Generate a list of global embeddings.\n",
    "\n",
    "# It contains embeddings of semantic meaning of each of the chunk "
   ]
  },
  {
   "cell_type": "code",
   "execution_count": 20,
   "id": "49afa774-d96c-4942-8857-7623f6069c69",
   "metadata": {},
   "outputs": [
    {
     "name": "stdout",
     "output_type": "stream",
     "text": [
      "384\n"
     ]
    }
   ],
   "source": [
    "global_embeddings = [embd.embed_query(txt) for txt in texts_split]\n",
    "print(len(global_embeddings[0]))"
   ]
  },
  {
   "cell_type": "markdown",
   "id": "d065572e-1355-42b1-88ea-b5c2b7099fe2",
   "metadata": {},
   "source": [
    "# Generate a reduced cluster by reducing dimension from 384 to 2 and visualizing the embeddings."
   ]
  },
  {
   "cell_type": "code",
   "execution_count": 21,
   "id": "a9d8ae19-19a1-49af-b577-3edd48bb9323",
   "metadata": {},
   "outputs": [],
   "source": [
    "import matplotlib.pyplot as plt\n",
    "from typing import Optional\n",
    "import numpy as np\n",
    "import umap.umap_ as umap"
   ]
  },
  {
   "cell_type": "code",
   "execution_count": 22,
   "id": "25ad5409-18bc-44ea-8ad0-e9392f16835e",
   "metadata": {},
   "outputs": [],
   "source": [
    "def reduce_cluster_embeddings(\n",
    "    embeddings: np.ndarray,\n",
    "    dim: int,\n",
    "    n_neighbors: Optional[int] = None,\n",
    "    metric: str = \"cosine\",\n",
    ") -> np.ndarray:\n",
    "    if n_neighbors is None:\n",
    "        n_neighbors = int((len(embeddings) - 1) ** 0.5)\n",
    "    return umap.UMAP(\n",
    "        n_neighbors=n_neighbors, n_components=dim, metric=metric\n",
    "    ).fit_transform(embeddings)"
   ]
  },
  {
   "cell_type": "code",
   "execution_count": 23,
   "id": "5ba53a58-7551-49dd-a2cc-cf0907c45b1e",
   "metadata": {},
   "outputs": [
    {
     "name": "stdout",
     "output_type": "stream",
     "text": [
      "[15.133812  -5.7481456]\n"
     ]
    },
    {
     "data": {
      "image/png": "[encoded data removed]",
      "text/plain": [
       "<Figure size 1000x800 with 1 Axes>"
      ]
     },
     "metadata": {},
     "output_type": "display_data"
    }
   ],
   "source": [
    "dim = 2\n",
    "global_embeddings_reduced = reduce_cluster_embeddings(global_embeddings, dim)\n",
    "print(global_embeddings_reduced[0])\n",
    "#\n",
    "plt.figure(figsize=(10, 8))\n",
    "plt.scatter(global_embeddings_reduced[:, 0], global_embeddings_reduced[:, 1], alpha=0.5)\n",
    "plt.title(\"Global Embeddings\")\n",
    "plt.xlabel(\"Dimension 1\")\n",
    "plt.ylabel(\"Dimension 2\")\n",
    "plt.show()"
   ]
  },
  {
   "cell_type": "markdown",
   "id": "6acc69b7-8b8e-458e-9774-a79b9cd55afd",
   "metadata": {},
   "source": [
    "# Tree Constrution\n",
    "The clustering approach in tree construction includes a few interesting ideas.\n",
    "\n",
    "# GMM (Gaussian Mixture Model)\n",
    "\n",
    "- Model the distribution of data points across different clusters\n",
    "- Optimal number of clusters by evaluating the model’s Bayesian Information Criterion (BIC)\n",
    "# UMAP (Uniform Manifold Approximation and Projection)\n",
    "\n",
    "- Supports clustering\n",
    "- Reduces the dimensionality of high-dimensional data\n",
    "- UMAP helps to highlight the natural grouping of data points based on their similarities\n",
    "# Local and Global Clustering\n",
    "\n",
    "- Used to analyze data at different scales\n",
    "- Both fine-grained and broader patterns within the data are captured effectively\n",
    "# Thresholding\n",
    "\n",
    "- Apply in the context of GMM to determine cluster membership\n",
    "- Based on the probability distribution (assignment of data points to ≥ 1 cluster)"
   ]
  },
  {
   "cell_type": "code",
   "execution_count": 24,
   "id": "93cc15c4-d602-4268-b3ee-864f027abaf4",
   "metadata": {},
   "outputs": [],
   "source": [
    "import matplotlib.pyplot as plt\n",
    "import numpy as np\n",
    "from sklearn.mixture import GaussianMixture"
   ]
  },
  {
   "cell_type": "code",
   "execution_count": 25,
   "id": "d7a0ad1a-c746-415f-9d57-36f98fe442e0",
   "metadata": {},
   "outputs": [],
   "source": [
    "def get_optimal_clusters(embeddings: np.ndarray, max_clusters: int = 50, random_state: int = 1234):\n",
    "    max_clusters = min(max_clusters, len(embeddings))\n",
    "    bics = [GaussianMixture(n_components=n, random_state=random_state).fit(embeddings).bic(embeddings)\n",
    "            for n in range(1, max_clusters)]\n",
    "    return np.argmin(bics) + 1"
   ]
  },
  {
   "cell_type": "code",
   "execution_count": 26,
   "id": "f2bde672-ece0-4f2c-a474-c9ac40f128bf",
   "metadata": {},
   "outputs": [],
   "source": [
    "def gmm_clustering(embeddings: np.ndarray, threshold: float, random_state: int = 0):\n",
    "    n_clusters = get_optimal_clusters(embeddings)\n",
    "    gm = GaussianMixture(n_components=n_clusters, random_state=random_state).fit(embeddings)\n",
    "    probs = gm.predict_proba(embeddings)\n",
    "    labels = [np.where(prob > threshold)[0] for prob in probs]\n",
    "    return labels, n_clusters"
   ]
  },
  {
   "cell_type": "code",
   "execution_count": 27,
   "id": "9aed31b7-77f6-4f79-9cf7-5fce6b5bf8ab",
   "metadata": {},
   "outputs": [
    {
     "data": {
      "image/png": "[encoded data removed]",
      "text/plain": [
       "<Figure size 1000x800 with 1 Axes>"
      ]
     },
     "metadata": {},
     "output_type": "display_data"
    }
   ],
   "source": [
    "#\n",
    "labels, _ = gmm_clustering(global_embeddings_reduced, threshold=0.5)\n",
    "\n",
    "plot_labels = np.array([label[0] if len(label) > 0 else -1 for label in labels])\n",
    "plt.figure(figsize=(10, 8))\n",
    "\n",
    "unique_labels = np.unique(plot_labels)\n",
    "colors = plt.cm.rainbow(np.linspace(0, 1, len(unique_labels)))\n",
    "\n",
    "for label, color in zip(unique_labels, colors):\n",
    "    mask = plot_labels == label\n",
    "    plt.scatter(global_embeddings_reduced[mask, 0], global_embeddings_reduced[mask, 1], color=color, label=f'Cluster {label}', alpha=0.5)\n",
    "\n",
    "plt.title(\"Cluster Visualization of Global Embeddings\")\n",
    "plt.xlabel(\"Dimension 1\")\n",
    "plt.ylabel(\"Dimension 2\")\n",
    "plt.legend()\n",
    "plt.show()"
   ]
  },
  {
   "cell_type": "markdown",
   "id": "9f255360-f694-4088-ace3-b3805cecd8ec",
   "metadata": {},
   "source": [
    "# Create a dataframe to check the texts associated with each cluster."
   ]
  },
  {
   "cell_type": "code",
   "execution_count": 28,
   "id": "9cef4b8c-f740-4eda-ab9b-fdc0cdc2e935",
   "metadata": {},
   "outputs": [
    {
     "name": "stdout",
     "output_type": "stream",
     "text": [
      "                                                Text                Embedding  \\\n",
      "0  35- ٌعتبر ممٌاس التأخر النمائً أداة متعددة الأ...  [15.133812, -5.7481456]   \n",
      "1  امتحان  الجزء الخامس(مبادئ استخدام المقياس ومم...   [15.261391, -4.492571]   \n",
      "2  والتحمك من أن مهارات الأطفال ذوي الأداء الوظٌف...  [15.645327, -4.3848796]   \n",
      "\n",
      "   Cluster  \n",
      "0       11  \n",
      "1        4  \n",
      "2       15  \n"
     ]
    }
   ],
   "source": [
    "import pandas as pd\n",
    "\n",
    "simple_labels = [label[0] if len(label) > 0 else -1 for label in labels]\n",
    "\n",
    "df = pd.DataFrame({\n",
    "    'Text': texts_split,\n",
    "    'Embedding': list(global_embeddings_reduced),\n",
    "    'Cluster': simple_labels\n",
    "})\n",
    "print(df.head(3))"
   ]
  },
  {
   "cell_type": "code",
   "execution_count": 29,
   "id": "bbeb30a2-2332-41ba-b959-a19ed0534fbd",
   "metadata": {},
   "outputs": [],
   "source": [
    "def format_cluster_texts(df):\n",
    "    clustered_texts = {}\n",
    "    for cluster in df['Cluster'].unique():\n",
    "        cluster_texts = df[df['Cluster'] == cluster]['Text'].tolist()\n",
    "        clustered_texts[cluster] = \" --- \".join(cluster_texts)\n",
    "    return clustered_texts"
   ]
  },
  {
   "cell_type": "code",
   "execution_count": 30,
   "id": "5ba7f18d-77ad-4ae7-a1bf-3c2b4c76c640",
   "metadata": {},
   "outputs": [
    {
     "data": {
      "text/plain": [
       "{11: '35- ٌعتبر ممٌاس التأخر النمائً أداة متعددة الأبعاد وتشخٌصٌة تمكِّ ن المستخدم من التحدٌد الفعال وتوضح له كٌفٌة ممارنة الطفل مع  \\nألرانه بدلة فً الخمسة مجالات الأساسٌة للنمو صح \\n14- ٌجب استخدام ممٌاس التأخر النمائً بمعزل عن التشخٌص أو خطة علاج الطفل، فٌجب أن ٌستخدم بالتنسٌك مع البٌانات الأخرى\\nعلً العكس من اي اداة نفسٌة اخري خطأ \\n\\n\\n ---',\n",
       " 4: 'امتحان  الجزء الخامس(مبادئ استخدام المقياس ومميزاته والوصف العام للمقياس  \\nالسؤال :  \\nتتكون بطارٌة التأخر النمائً من جزء واحد فمط . \\nالإجابة : خطأ \\nالسؤال :  \\nٌمٌ ِّم ممٌاس التأخر النمائً مجموعة كاملة من المهارات، من التأخر الشدٌد إلى المدرة فً المدى فوق المتوسط حتى سن 3 إلى5 سنوات\\nتمرٌبًا (حسب الممٌاس). وفً الأعمار الأعلى، ٌتمثل الاستخدام الأساسً للممٌاس فً تحدٌد المهارات فً المدى الألل من المتوسط \\nوالتحمك من أن مهارات الأطفال ذوي الأداء الوظٌفً المرتفع على الألل تمع ضمن المعدل الطبٌعً. \\nالإجابة : صح \\nالسؤال : ٌمدم ممٌاس التأخر النمائً اربع مجالات، ٌحتوي كل منها على  حوالً 04فمرة . \\nالإجابة : خطأ \\nالسؤال : ٌستغرق ولت تطبٌك الممٌاس من حوالً 04 إلى04 دلٌمة تمرٌبًا. \\nالإجابة : خطأ \\nالسؤال : لا ٌمكن استخدام الممٌاس مع  الاعمار الأكبر من 30عاما  ممن ٌعانون من تأخر فً النمو خطأ \\n2- ٌمكن استخدام ممٌاس التأخر النمائً بشكل فعال فً مجموعة متنوعة من البٌئات ولأغراض مختلفة صح',\n",
       " 15: 'والتحمك من أن مهارات الأطفال ذوي الأداء الوظٌفً المرتفع على الألل تمع ضمن المعدل الطبٌعً. \\nالإجابة : صح \\nالسؤال : ٌمدم ممٌاس التأخر النمائً اربع مجالات، ٌحتوي كل منها على  حوالً 04فمرة . \\nالإجابة : خطأ \\nالسؤال : ٌستغرق ولت تطبٌك الممٌاس من حوالً 04 إلى04 دلٌمة تمرٌبًا. \\nالإجابة : خطأ \\nالسؤال : لا ٌمكن استخدام الممٌاس مع  الاعمار الأكبر من 30عاما  ممن ٌعانون من تأخر فً النمو خطأ \\n2- ٌمكن استخدام ممٌاس التأخر النمائً بشكل فعال فً مجموعة متنوعة من البٌئات ولأغراض مختلفة صح \\n3- لا ٌراعً ممٌاس التأخر النمائً التَغٌُّرات الثمافٌة المتواترة والتكنولوجٌة وتأثٌرها المهم فً كل من معدل خبرات النمو وطبٌعتها  خطأ \\n4- هنان ثلاث خٌاراتللتصحٌح (وهم الدرجات الموزونة والمكافئات العمرٌة والرتب المئٌنٌة) لكل ممٌاس من المماٌٌس الخمسة  خطأ \\n5- لا ٌحتوي الاختبار على تطبٌك ٌمكن الاستعانة به فً مرحلة الرشد للحالات التً تعانً من تأخر شدٌد وتحتاج إلى توثٌك المهارات\\nالتكٌفٌة والنمائٌة ضمن المجموعة التً ٌمٌمها الممٌاس  خطأ',\n",
       " 6: '3- لا ٌراعً ممٌاس التأخر النمائً التَغٌُّرات الثمافٌة المتواترة والتكنولوجٌة وتأثٌرها المهم فً كل من معدل خبرات النمو وطبٌعتها  خطأ \\n4- هنان ثلاث خٌاراتللتصحٌح (وهم الدرجات الموزونة والمكافئات العمرٌة والرتب المئٌنٌة) لكل ممٌاس من المماٌٌس الخمسة  خطأ \\n5- لا ٌحتوي الاختبار على تطبٌك ٌمكن الاستعانة به فً مرحلة الرشد للحالات التً تعانً من تأخر شدٌد وتحتاج إلى توثٌك المهارات\\nالتكٌفٌة والنمائٌة ضمن المجموعة التً ٌمٌمها الممٌاس  خطأ \\n34- ٌتكون الممٌاس من خمس مجالات رئٌسٌة ،ٌمٌم الاداء الوظٌفً للممٌاس من عمر الولادة وحتً عمر31 عام و33 شهر صح \\n33- ٌمكن أن ٌكمل الوالدٌن الممٌاس أو ممدم الرعاٌة الذي ٌعرف الطفل جٌدًا وٌكون لادر على لراءة الفمرات وفهمها تمامًا، ثم ٌصححه\\nالأخصائً وٌفسرها لاحمًا  صح \\n31- نظرًا لمدرة ممٌاس التأخر النمائً على العمل كأداة مسح أو أداة تشخٌص، ٌمكن استخدامه لتحمٌك مجموعة متنوعة من الأهداف\\nالتمٌٌمٌة والتعلٌمٌة صح',\n",
       " 1: 'التكٌفٌة والنمائٌة ضمن المجموعة التً ٌمٌمها الممٌاس  خطأ \\n34- ٌتكون الممٌاس من خمس مجالات رئٌسٌة ،ٌمٌم الاداء الوظٌفً للممٌاس من عمر الولادة وحتً عمر31 عام و33 شهر صح \\n33- ٌمكن أن ٌكمل الوالدٌن الممٌاس أو ممدم الرعاٌة الذي ٌعرف الطفل جٌدًا وٌكون لادر على لراءة الفمرات وفهمها تمامًا، ثم ٌصححه\\nالأخصائً وٌفسرها لاحمًا  صح \\n31- نظرًا لمدرة ممٌاس التأخر النمائً على العمل كأداة مسح أو أداة تشخٌص، ٌمكن استخدامه لتحمٌك مجموعة متنوعة من الأهداف\\nالتمٌٌمٌة والتعلٌمٌة صح \\n30- ممٌاس التأخر النمائً هو أداة مفٌدة فً أي بٌئة ٌلزم فٌها المٌاس الفعال لأي شخص أو لجمٌع مجالات تطور الأداء الوظٌفً الخمسة  \\nصح \\n30- لا ٌجب أن ٌتوافك استخدام ممٌاس التأخر النمائً فً كل من البٌئات الإكلٌنٌكٌة والبحثٌة مع الإرشادات المهنٌة والأخلالٌة التً\\nوضعتها جمعٌة الطب النفسً الأمرٌكٌة (1441)، وغٌرها من المنظمات النفسٌة والتعلٌمٌة المهنٌة خطأ \\n31- لا ٌموم ممٌاس التأخر النمائً بدور أداة المسح، حٌث لا ٌحدد ما إذا كان الطفل ٌحتاج إلى تمدٌر تشخٌصً أكثر شمول خطأ',\n",
       " 12: '30- ممٌاس التأخر النمائً هو أداة مفٌدة فً أي بٌئة ٌلزم فٌها المٌاس الفعال لأي شخص أو لجمٌع مجالات تطور الأداء الوظٌفً الخمسة  \\nصح \\n30- لا ٌجب أن ٌتوافك استخدام ممٌاس التأخر النمائً فً كل من البٌئات الإكلٌنٌكٌة والبحثٌة مع الإرشادات المهنٌة والأخلالٌة التً\\nوضعتها جمعٌة الطب النفسً الأمرٌكٌة (1441)، وغٌرها من المنظمات النفسٌة والتعلٌمٌة المهنٌة خطأ \\n31- لا ٌموم ممٌاس التأخر النمائً بدور أداة المسح، حٌث لا ٌحدد ما إذا كان الطفل ٌحتاج إلى تمدٌر تشخٌصً أكثر شمول خطأ \\n32- المساعدة فً تخطٌط برنامج تعلٌمً فردي من الاهداف التعلٌمٌة لممٌاس التأخر النمائً صح \\n33- من استخدامات ممٌاس التأخر النمائً تحدٌد أهلٌةتلمً خدمات التعلٌم الخاص والخدمات ذات الصلة  صح \\n34- لا ٌمكن إحالة الأطفال الذٌن ٌمعون تحت درجة المطع الحرجة لإجراء المزٌد من الفحوصات خطأ',\n",
       " 14: '--- \\n\\n\\nامتحان  الجزء الحادي عشر(شرح بنود مهارات التواصل  \\nالسؤال :  \\nمن مهارات مجال التواصل ان يبدو الطفل وكأنه يتظاهر بالكلام ( المناغاة). \\nالإجابة :  صح \\nالسؤال : \\nيقيس هذا المجال كل من مهارات التواصل التعبيرية والاستقبالية في اللغة اللفظية فقط . \\nالإجابة : خطأ \\nالسؤال :  \\nلا  تعد \"يفسر بشكل دقيق الجداول والمخططات والرسوم التوضيحية\" من مهارات مجال التواصل .  \\nالإجابة : خطأ \\nالسؤال  :  \\nيقيس مجال التواصل القدرة على استخدام أجهزة الاتصال (مثل الهاتف والكمبيوتر) بشكل فعال . \\nالإجابة : صح \\nالسؤال :  \\nتكون نقطة البداية الثالثة من 42 شهر إلى24 شهر. \\nالإجابة : صح \\nالسؤال :  \\nيقول أو يغني اثنين على الأقل من أغاني الأطفال أو أغاني الإعلانات التجارية. يمكن تقدير الفقرة بنعم في حالة غناء أغاني أعياد \\nالميلاد، يجب أن يغني مقطع كامل من كل أغنية . \\nالإجابة : صح \\nالسؤال :  \\nعدد بنود مهارات التواصل 24 بند . \\nالإجابة : صح \\n\\n\\n ---',\n",
       " 7: \"--- \\n\\n\\nChild:  Why do we marinate meat?  \\nMeat Seller:  Marinating meat not only adds flavor but can also help to tenderize it, \\nespecially with tougher cuts of meat.  \\n \\nChild:  How does smoking meat preserve it?  \\nMeat Seller:  Smoking meat adds flavor and the smoke contains chemicals that \\nslow down spoilage and help prevent bacteria from growing.  \\n \\nChild:  Can you eat meat from a cloned ani mal?  \\nMeat Seller:  Yes, some countries have approved the sale of meat from cloned \\nanimals, but it's not very common and is usually heavily regulated.  \\n \\nChild:  What does 'prime' mean when talking about meat?  \\nMeat Seller:  'Prime' is a grade given to beef by th e USDA. It means the meat has a \\nlot of marbling, which is the fat within the muscle, and it's usually the most tender \\nand flavorful.  \\n \\nChild:  Do you think we'll always eat meat?  \\nMeat Seller:  That's hard to say. Some people are choosing plant -based diets, an d \\nthere are also new kinds of meat being developed, like lab -grown meat, that might \\nchange how we eat in the future.  \\n \\nChild:  What's the most important thing to remember when cooking meat?  \\nMeat Seller:  Always make sure your meat is cooked to the right temperature to \\nmake it safe to eat. Using a meat thermometer is the best way to check.  \\n \\n \\n\\n\\n --- \\n\\n\\nChild:  Why d o some people only eat halal or kosher meat?  \\nMeat Seller:  Halal and kosher are terms that refer to meat prepared according to \\nIslamic and Jewish dietary laws, respectively. People who follow these religions \\nmay only eat meat that's been prepared in this wa y. \\n \\nChild:  How do you cook a whole turkey?  \\nMeat Seller:  Cooking a whole turkey takes some time and preparation. You need \\nto thaw it if it's frozen, remove the giblets, season it as you like, and then roast it in \\nthe oven. The general rule is to cook it for  about 13 -15 minutes per pound at 325°F \\n(around 163°C), but it depends on the size of the turkey and your oven.  \\n \\nChild:  What's the biggest piece of meat you've ever sold?  \\nMeat Seller:  We've sold whole sides of beef before! They can weigh hundreds of \\npounds and are usually bought by restaurants or for big events.  \\n \\nChild:  Can meat be part of a diet to lose weight?  \\nMeat Seller:  Yes, lean meats like chicken breast or turkey can be a great part of a \\nweight -loss diet because they're high in protein and can make you feel full longer.  \\n \\nChild:  Why do some people eat raw meat, isn't it dangerous?  \\nMeat Seller:  Eating raw meat like sushi  or steak tartare can be safe if it's fresh and \\nhandled properly, but there's always a risk of bacteria, so it's not for everyone.  \\n \\nChild:  What's the difference between a butcher and a meat seller?  \\nMeat Seller:  A butcher often refers to someone who cuts an d processes the meat \\nfrom larger pieces to what you buy in the store, while a meat seller might just be \\nthe person who sells it to you.  \\n \\n \\n\\n\\n --- --- --- \\n\\n\\nChild:  Why d o some people only eat halal or kosher meat?  \\nMeat Seller:  Halal and kosher are terms that refer to meat prepared according to \\nIslamic and Jewish dietary laws, respectively. People who follow these religions \\nmay only eat meat that's been prepared in this wa y. \\n \\nChild:  How do you cook a whole turkey?  \\nMeat Seller:  Cooking a whole turkey takes some time and preparation. You need \\nto thaw it if it's frozen, remove the giblets, season it as you like, and then roast it in \\nthe oven. The general rule is to cook it for  about 13 -15 minutes per pound at 325°F \\n(around 163°C), but it depends on the size of the turkey and your oven.  \\n \\nChild:  What's the biggest piece of meat you've ever sold?  \\nMeat Seller:  We've sold whole sides of beef before! They can weigh hundreds of \\npounds and are usually bought by restaurants or for big events.  \\n \\nChild:  Can meat be part of a diet to lose weight?  \\nMeat Seller:  Yes, lean meats like chicken breast or turkey can be a great part of a \\nweight -loss diet because they're high in protein and can make you feel full longer.  \\n \\nChild:  Why do some people eat raw meat, isn't it dangerous?  \\nMeat Seller:  Eating raw meat like sushi  or steak tartare can be safe if it's fresh and \\nhandled properly, but there's always a risk of bacteria, so it's not for everyone.  \\n \\nChild:  What's the difference between a butcher and a meat seller?  \\nMeat Seller:  A butcher often refers to someone who cuts an d processes the meat \\nfrom larger pieces to what you buy in the store, while a meat seller might just be \\nthe person who sells it to you.  \\n \\n \\n\\n\\n --- \\n\\n\\nChild:  Can you tell me a recipe with meat?  \\nMeat Seller:  Sure! How about a simple grilled chicken recipe? Just season chicken \\nbreasts with salt, pepper, and your favorite herbs, then grill them until th ey're \\ncooked through.  \\n \\nChild:  What kind of meat do you not sell here?  \\nMeat Seller:  We don't sell certain exotic or game meats like kangaroo or bear. \\nThose are usually only found in specialty stores or ordered online.  \\n \\nChild:  How do you make sure you're buy ing good meat when you shop?  \\nMeat Seller:  Look for meat that's well -colored, not too smelly, and has a firm \\ntexture. Also, buy from reputable sellers who follow good safety practices.  \\n \\nChild:  Why do some people not eat meat?  \\nMeat Seller:  Some people choose  not to eat meat for personal reasons like health \\nconcerns, ethical beliefs about animal rights, or environmental reasons.  \\n \\nChild:  Do you make sausages here in the store?  \\nMeat Seller:  We do! We have a machine in the back where we grind the meat, mix \\nin spi ces, and stuff it into sausage casings.  \\n \\nChild:  What's in hot dogs?  \\nMeat Seller:  Hot dogs are a type of sausage, so they're made from ground meat, \\nwhich can include pork, beef, or poultry, along with a mix of seasonings and \\nsometimes fillers.  \\n \\n \\n \\n\\n\\n ---\",\n",
       " 0: \"--- \\n\\n\\nChild:  Can you tell me a recipe with meat?  \\nMeat Seller:  Sure! How about a simple grilled chicken recipe? Just season chicken \\nbreasts with salt, pepper, and your favorite herbs, then grill them until th ey're \\ncooked through.  \\n \\nChild:  What kind of meat do you not sell here?  \\nMeat Seller:  We don't sell certain exotic or game meats like kangaroo or bear. \\nThose are usually only found in specialty stores or ordered online.  \\n \\nChild:  How do you make sure you're buy ing good meat when you shop?  \\nMeat Seller:  Look for meat that's well -colored, not too smelly, and has a firm \\ntexture. Also, buy from reputable sellers who follow good safety practices.  \\n \\nChild:  Why do some people not eat meat?  \\nMeat Seller:  Some people choose  not to eat meat for personal reasons like health \\nconcerns, ethical beliefs about animal rights, or environmental reasons.  \\n \\nChild:  Do you make sausages here in the store?  \\nMeat Seller:  We do! We have a machine in the back where we grind the meat, mix \\nin spi ces, and stuff it into sausage casings.  \\n \\nChild:  What's in hot dogs?  \\nMeat Seller:  Hot dogs are a type of sausage, so they're made from ground meat, \\nwhich can include pork, beef, or poultry, along with a mix of seasonings and \\nsometimes fillers.  \\n \\n \\n \\n\\n\\n --- \\n\\n\\n \\nChild:  Why do you use so much ice in the fish section?  \\nMeat Seller:  Ice keeps the fish cold and fresh until it's sold. Fish needs to be kept  \\nat colder temperatures than other meats to prevent spoilage.  \\n \\nChild:  What's dry aging?  \\nMeat Seller:  Dry aging is when meat is stored in a controlled, cool environment \\nfor several weeks to improve its flavor and tenderness.  \\n \\nChild:  Is eating meat bad for t he environment?  \\nMeat Seller:  Some people are concerned about the environmental impact of \\nraising animals for meat, like the use of land and water resources and greenhouse \\ngas emissions. That's why many look for sustainably sourced meats.  \\n \\nChild:  Do all cou ntries eat the same kinds of meat?  \\nMeat Seller:  No, different cultures enjoy different types of meat. For example, \\ngoat is more popular in some countries than in the United States.  \\n \\nChild:  What's the most meat a person can eat?  \\nMeat Seller:  It's not really  good to eat too much meat at once. It's best to have \\nbalanced meals with vegetables and other nutrients as well.  \\n \\nChild:  Why is some meat really dark when it's cooked?  \\nMeat Seller:  Meat can turn dark when it's cooked if it's been smoked or if it's \\ncooked at high temperatures, like with grilling or broiling.  \\n \\n \\n \\n\\n\\n ---\",\n",
       " 3: \"--- \\n\\n\\n \\nChild:  Why do you use so much ice in the fish section?  \\nMeat Seller:  Ice keeps the fish cold and fresh until it's sold. Fish needs to be kept  \\nat colder temperatures than other meats to prevent spoilage.  \\n \\nChild:  What's dry aging?  \\nMeat Seller:  Dry aging is when meat is stored in a controlled, cool environment \\nfor several weeks to improve its flavor and tenderness.  \\n \\nChild:  Is eating meat bad for t he environment?  \\nMeat Seller:  Some people are concerned about the environmental impact of \\nraising animals for meat, like the use of land and water resources and greenhouse \\ngas emissions. That's why many look for sustainably sourced meats.  \\n \\nChild:  Do all cou ntries eat the same kinds of meat?  \\nMeat Seller:  No, different cultures enjoy different types of meat. For example, \\ngoat is more popular in some countries than in the United States.  \\n \\nChild:  What's the most meat a person can eat?  \\nMeat Seller:  It's not really  good to eat too much meat at once. It's best to have \\nbalanced meals with vegetables and other nutrients as well.  \\n \\nChild:  Why is some meat really dark when it's cooked?  \\nMeat Seller:  Meat can turn dark when it's cooked if it's been smoked or if it's \\ncooked at high temperatures, like with grilling or broiling.  \\n \\n \\n \\n\\n\\n --- \\n\\n\\nChild:  What's the quickest meat to cook?  \\nMeat Seller:  Thin cuts like chicken tenders or steak strips can cook very quickly, \\nespecially if you pan -fry them.  \\n \\nChild:  Why is some meat really cheap and some really expensive?  \\nMeat Seller:  The price can depend on many factors, like how much care the \\nanimal received, how rare or in -demand the meat is, and how much meat the \\nanimal yields.  \\n \\nChild:  How can you tell if meat is bad?  \\nMeat Seller:  Spoiled meat often has a sour smell, slimy texture, and a dull color. \\nIt's important to check these signs before you cook or eat meat.  \\n \\nChild:  What does 'free -range' mean?  \\nMeat Seller:  Free-range means that the animals had access to the outdoors and \\ncould  move around freely, at least for a part of their lives.  \\n \\nChild:  Can meat be a dessert?  \\nMeat Seller:  That's unusual! But some dishes use meat in sweet ways, like bacon \\nwith maple syrup or candied bacon.  \\n \\nChild:  Is fish meat healthier than other meats?  \\nMeat  Seller:  Many people consider fish to be healthier because it's generally lower \\nin saturated fats and contains healthy omega -3 fatty acids.  \\n \\nChild:  What's the difference between wild -caught and farm -raised fish?  \\nMeat Seller:  Wild -caught fish are caught fro m their natural environments, like \\noceans or rivers, while farm -raised fish are grown in controlled aquatic farms.  \\n\\n\\n ---\",\n",
       " 9: \"--- \\n\\n\\nChild:  What's the quickest meat to cook?  \\nMeat Seller:  Thin cuts like chicken tenders or steak strips can cook very quickly, \\nespecially if you pan -fry them.  \\n \\nChild:  Why is some meat really cheap and some really expensive?  \\nMeat Seller:  The price can depend on many factors, like how much care the \\nanimal received, how rare or in -demand the meat is, and how much meat the \\nanimal yields.  \\n \\nChild:  How can you tell if meat is bad?  \\nMeat Seller:  Spoiled meat often has a sour smell, slimy texture, and a dull color. \\nIt's important to check these signs before you cook or eat meat.  \\n \\nChild:  What does 'free -range' mean?  \\nMeat Seller:  Free-range means that the animals had access to the outdoors and \\ncould  move around freely, at least for a part of their lives.  \\n \\nChild:  Can meat be a dessert?  \\nMeat Seller:  That's unusual! But some dishes use meat in sweet ways, like bacon \\nwith maple syrup or candied bacon.  \\n \\nChild:  Is fish meat healthier than other meats?  \\nMeat  Seller:  Many people consider fish to be healthier because it's generally lower \\nin saturated fats and contains healthy omega -3 fatty acids.  \\n \\nChild:  What's the difference between wild -caught and farm -raised fish?  \\nMeat Seller:  Wild -caught fish are caught fro m their natural environments, like \\noceans or rivers, while farm -raised fish are grown in controlled aquatic farms.  \\n\\n\\n --- \\n\\n\\nChild:  Why do you hang some meat?  \\nMeat Seller:  Hanging meat, or aging it, helps to tenderize it and bri ng out the \\nflavor. It's a process mostly used for high -quality beef.  \\n \\nChild:  Can you eat chicken skin?  \\nMeat Seller:  Yes, you can! When it's cooked well, it's crispy and tasty. But it's high \\nin fat, so some people prefer to remove it.  \\n \\nChild:  How long can y ou keep meat in the freezer?  \\nMeat Seller:  It depends on the type of meat, but most can be kept for several \\nmonths. Beef can generally be frozen for longer than poultry.  \\n \\nChild:  Why is some meat more tender than other meat?  \\nMeat Seller:  It depends on the ag e of the animal, the part of the body the meat \\ncomes from, and how much that muscle was used. Muscles that aren't used as \\nmuch tend to be more tender.  \\n \\nChild:  What's your favorite way to cook meat?  \\nMeat Seller:  I love grilling! It gives a great flavor, esp ecially when you've got a \\ngood marinade or rub on the meat.  \\n \\nChild:  What does 'gamey' mean when talking about meat?  \\nMeat Seller:  'Gamey' describes the strong, wild flavor that meat from hunting \\ngame, like deer or wild boar, often has. It's not for everyone , but some people \\nreally enjoy it.  \\n \\n \\n \\n\\n\\n ---\",\n",
       " 2: \"--- \\n\\n\\nChild:  Why do you hang some meat?  \\nMeat Seller:  Hanging meat, or aging it, helps to tenderize it and bri ng out the \\nflavor. It's a process mostly used for high -quality beef.  \\n \\nChild:  Can you eat chicken skin?  \\nMeat Seller:  Yes, you can! When it's cooked well, it's crispy and tasty. But it's high \\nin fat, so some people prefer to remove it.  \\n \\nChild:  How long can y ou keep meat in the freezer?  \\nMeat Seller:  It depends on the type of meat, but most can be kept for several \\nmonths. Beef can generally be frozen for longer than poultry.  \\n \\nChild:  Why is some meat more tender than other meat?  \\nMeat Seller:  It depends on the ag e of the animal, the part of the body the meat \\ncomes from, and how much that muscle was used. Muscles that aren't used as \\nmuch tend to be more tender.  \\n \\nChild:  What's your favorite way to cook meat?  \\nMeat Seller:  I love grilling! It gives a great flavor, esp ecially when you've got a \\ngood marinade or rub on the meat.  \\n \\nChild:  What does 'gamey' mean when talking about meat?  \\nMeat Seller:  'Gamey' describes the strong, wild flavor that meat from hunting \\ngame, like deer or wild boar, often has. It's not for everyone , but some people \\nreally enjoy it.  \\n \\n \\n \\n\\n\\n --- \\n\\n\\n \\nChild:  Why are some meats called 'processed'?  \\nMeat Seller:  Processed meats have been changed to add flavor or preserve them \\nlonger, often by smoking, curing, or adding preservatives.  \\n \\nChild:  Do you have to go to school to become a meat seller?  \\nMeat Seller:  Some me at sellers learn through experience, but there are also trade \\nschools and certifications for butchery and meat handling.  \\n \\nChild:  What does 'grass -fed' mean?  \\nMeat Seller:  Grass -fed means the animals were fed primarily on grass, which is \\ntheir natural diet, rather than grains like corn or soy.  \\n \\nChild:  Is it true that some meat comes from animals that never lived outside?  \\nMeat Seller:  Yes, some farms raise animals indoors, but there are different types of \\nfarms. Some let their animals graze outside.  \\n \\nChild:  What's the strangest meat you've ever sold?  \\nMeat Seller:  Well, 'strange' is different for everyone, but we've sold meats like \\nalligator and ostrich before. They're not common, but some people like trying new \\nthings.  \\n \\nChild:  How do animals become meat?  \\nMeat Seller:  Animals are raised on farms, and when they are big enough, they are \\nhumanely slaughtered, and then the meat is processed and packaged for sale.  \\n \\n \\n \\n\\n\\n ---\",\n",
       " 13: \"--- \\n\\n\\n \\nChild:  Why are some meats called 'processed'?  \\nMeat Seller:  Processed meats have been changed to add flavor or preserve them \\nlonger, often by smoking, curing, or adding preservatives.  \\n \\nChild:  Do you have to go to school to become a meat seller?  \\nMeat Seller:  Some me at sellers learn through experience, but there are also trade \\nschools and certifications for butchery and meat handling.  \\n \\nChild:  What does 'grass -fed' mean?  \\nMeat Seller:  Grass -fed means the animals were fed primarily on grass, which is \\ntheir natural diet, rather than grains like corn or soy.  \\n \\nChild:  Is it true that some meat comes from animals that never lived outside?  \\nMeat Seller:  Yes, some farms raise animals indoors, but there are different types of \\nfarms. Some let their animals graze outside.  \\n \\nChild:  What's the strangest meat you've ever sold?  \\nMeat Seller:  Well, 'strange' is different for everyone, but we've sold meats like \\nalligator and ostrich before. They're not common, but some people like trying new \\nthings.  \\n \\nChild:  How do animals become meat?  \\nMeat Seller:  Animals are raised on farms, and when they are big enough, they are \\nhumanely slaughtered, and then the meat is processed and packaged for sale.  \\n \\n \\n \\n\\n\\n --- \\n\\n\\nMeat Seller:  We have to follow strict rules. If meat is still g ood but close to its \\nsell-by date, we might discount it to sell it quickly. If it's past the sell -by date, we \\ncan't sell it and have to dispose of it properly.  \\n \\nChild:  What's the biggest animal you can sell meat from?  \\nMeat Seller:  Well, in this store, the biggest would probably be beef from cows. \\nBut some places sell meat from larger animals like bison or even elk!  \\n \\nChild:  Can you make bacon from other animals besides meat ? \\nMeat Seller:  Yes, you can! Bacon -style cuts can come from animals like turkeys. \\nIt's a bit different in taste and texture, but some people like it.  \\n \\nChild:  How do you make sausages?  \\nMeat Seller:  Sausages are made by grinding meat and mixing it with spices and \\nsometime s fillers like breadcrumbs. Then the mixture is put into casings made \\nfrom intestines or synthetic materials.  \\n \\nChild:  What's the difference between organic meat and regular meat?  \\nMeat Seller:  Organic meat comes from animals that were raised without certain  \\nchemicals, like synthetic hormones or antibiotics, and were given organic feed.  \\n \\nChild:  What animals does ground meat come from?  \\nMeat Seller:  Ground meat can come from many different animals! Most \\ncommonly it comes from cows (beef), and turke ys or chickens (poultry).  \\n \\nChild:  How do you make sure the meat is safe to eat?  \\nMeat Seller:  We follow strict guidelines set by food safety authorities, which \\ninclude keeping the meat at safe temperatures and ensuring it's fresh and well -\\nhandled.  \\n\\n\\n ---\",\n",
       " 5: \"--- \\n\\n\\nMeat Seller:  We have to follow strict rules. If meat is still g ood but close to its \\nsell-by date, we might discount it to sell it quickly. If it's past the sell -by date, we \\ncan't sell it and have to dispose of it properly.  \\n \\nChild:  What's the biggest animal you can sell meat from?  \\nMeat Seller:  Well, in this store, the biggest would probably be beef from cows. \\nBut some places sell meat from larger animals like bison or even elk!  \\n \\nChild:  Can you make bacon from other animals besides meat ? \\nMeat Seller:  Yes, you can! Bacon -style cuts can come from animals like turkeys. \\nIt's a bit different in taste and texture, but some people like it.  \\n \\nChild:  How do you make sausages?  \\nMeat Seller:  Sausages are made by grinding meat and mixing it with spices and \\nsometime s fillers like breadcrumbs. Then the mixture is put into casings made \\nfrom intestines or synthetic materials.  \\n \\nChild:  What's the difference between organic meat and regular meat?  \\nMeat Seller:  Organic meat comes from animals that were raised without certain  \\nchemicals, like synthetic hormones or antibiotics, and were given organic feed.  \\n \\nChild:  What animals does ground meat come from?  \\nMeat Seller:  Ground meat can come from many different animals! Most \\ncommonly it comes from cows (beef), and turke ys or chickens (poultry).  \\n \\nChild:  How do you make sure the meat is safe to eat?  \\nMeat Seller:  We follow strict guidelines set by food safety authorities, which \\ninclude keeping the meat at safe temperatures and ensuring it's fresh and well -\\nhandled.  \\n\\n\\n --- \\n\\n\\n \\nChild:  Can you eat all types of meat raw?  \\nMeat Seller:  It's not safe to eat all meat  raw because of bacteria that can make you \\nsick. Some meats, like beef, can be eaten rare if they are fresh and handled \\nproperly, but it's best to cook most meat.  \\n \\nChild:  Why do people marinate meat?  \\nMeat Seller:  Marinating meat adds flavor and can make it  more tender. The \\nmarinade usually has acid like vinegar or lemon juice, oil, and spices.  \\n \\nChild:  How do you know if meat is fresh?  \\nMeat Seller:  Fresh meat has a nice color, it's not too dry or slimy, and it doesn't \\nhave a bad smell. We always check these things before we sell meat.  \\n \\nChild:  What is the most expensive meat you sell?  \\nMeat Seller:  That would be our prime cuts of steak, like the filet mignon. They're \\nvery tender and come from a part of the cow that does very little work.  \\n \\nChild:  Why do you wear  gloves when you handle meat?  \\nMeat Seller:  Gloves keep everything clean and prevent the spread of germs from \\nmy hands to the meat and vice versa.  \\n \\nChild:  Do you sell fish here too?  \\nMeat Seller:  Yes, we do sell fish. Fish is also considered a type of meat, but it's \\nfrom the sea, and it's usually leaner and has different nutrients.  \\n \\nChild:  What do you do with the meat that isn't sold?  \\n\\n\\n ---\",\n",
       " 8: \"--- \\n\\n\\n \\nChild:  Can you eat all types of meat raw?  \\nMeat Seller:  It's not safe to eat all meat  raw because of bacteria that can make you \\nsick. Some meats, like beef, can be eaten rare if they are fresh and handled \\nproperly, but it's best to cook most meat.  \\n \\nChild:  Why do people marinate meat?  \\nMeat Seller:  Marinating meat adds flavor and can make it  more tender. The \\nmarinade usually has acid like vinegar or lemon juice, oil, and spices.  \\n \\nChild:  How do you know if meat is fresh?  \\nMeat Seller:  Fresh meat has a nice color, it's not too dry or slimy, and it doesn't \\nhave a bad smell. We always check these things before we sell meat.  \\n \\nChild:  What is the most expensive meat you sell?  \\nMeat Seller:  That would be our prime cuts of steak, like the filet mignon. They're \\nvery tender and come from a part of the cow that does very little work.  \\n \\nChild:  Why do you wear  gloves when you handle meat?  \\nMeat Seller:  Gloves keep everything clean and prevent the spread of germs from \\nmy hands to the meat and vice versa.  \\n \\nChild:  Do you sell fish here too?  \\nMeat Seller:  Yes, we do sell fish. Fish is also considered a type of meat, but it's \\nfrom the sea, and it's usually leaner and has different nutrients.  \\n \\nChild:  What do you do with the meat that isn't sold?  \\n\\n\\n --- \\n\\n\\n6. Lamb Shanks  \\nOther Meats : \\n1. Bison Steaks  \\n2. Venison (deer) cuts such as steaks, roasts, or ground  \\n3. Rabbit  \\n4. Goat (various cuts)  \\n5. Veal (young beef, with cuts similar to beef)  \\n6. Exotic and Game Meats (less common):  \\n7. Alligator  \\n8. Kangaro o \\n9. Ostrich  \\n10. Elk \\n11. Quail  \\n12. Pheasant  \\nChild:  What's the best kind of meat?  \\nMeat Seller:  That depends on what you like! Some people love beef because it's \\nrich in flavor, while others prefer chicken because it's lean and healthy.  \\n \\nChild:  Where does the meat come fro m? \\nMeat Seller:  It comes from farms where animals are raised for food. We get our \\nmeat from several trusted farms that take good care of their animals.  \\n \\nChild:  Why is some meat red and some meat white?  \\nMeat Seller:  The color of the meat is determined by th e type of muscle and how \\nmuch myoglobin it contains. Myoglobin is a protein that carries oxygen, and it's \\nmore abundant in active muscles, which are usually red.  \\n \\nChild:  What's the difference between ground beef and steak?  \\nMeat Seller:  Ground beef is made by grinding the meat into small pieces, while \\nsteak is a solid cut of meat. They can come from the same part of the cow but are \\nprepared differently.  \\n\\n\\n ---\",\n",
       " 10: \"--- \\n\\n\\n6. Lamb Shanks  \\nOther Meats : \\n1. Bison Steaks  \\n2. Venison (deer) cuts such as steaks, roasts, or ground  \\n3. Rabbit  \\n4. Goat (various cuts)  \\n5. Veal (young beef, with cuts similar to beef)  \\n6. Exotic and Game Meats (less common):  \\n7. Alligator  \\n8. Kangaro o \\n9. Ostrich  \\n10. Elk \\n11. Quail  \\n12. Pheasant  \\nChild:  What's the best kind of meat?  \\nMeat Seller:  That depends on what you like! Some people love beef because it's \\nrich in flavor, while others prefer chicken because it's lean and healthy.  \\n \\nChild:  Where does the meat come fro m? \\nMeat Seller:  It comes from farms where animals are raised for food. We get our \\nmeat from several trusted farms that take good care of their animals.  \\n \\nChild:  Why is some meat red and some meat white?  \\nMeat Seller:  The color of the meat is determined by th e type of muscle and how \\nmuch myoglobin it contains. Myoglobin is a protein that carries oxygen, and it's \\nmore abundant in active muscles, which are usually red.  \\n \\nChild:  What's the difference between ground beef and steak?  \\nMeat Seller:  Ground beef is made by grinding the meat into small pieces, while \\nsteak is a solid cut of meat. They can come from the same part of the cow but are \\nprepared differently.  \\n\\n\\n --- \\n\\n\\nMeat  \\nChild:  Can you tell me what types of meat you have?  \\nMeat Seller:  Of course, there are many types of meat, including:  \\nBeef Cuts : \\n1. Ribeye Steak  \\n2. Sirloin Steak  \\n3. Tenderloin (Filet Mignon)  \\n4. T-Bone Steak  \\n5. Porterhouse Steak  \\n6. Chuck Roast  \\n7. Brisket  \\n8. Skirt Steak  \\n9. Flank  Steak  \\n10. Ground Beef  \\n11. Short Ribs  \\n12. Sausages (various types)  \\nPoultry : \\n1. Chicken Breast  \\n2. Chicken Thighs  \\n3. Chicken Drumsticks  \\n4. Chicken Wings  \\n5. Whole Chicken  \\n6. Turkey Breast  \\n7. Ground Turkey  \\n8. Duck Breast  \\n9. Whole Duck  \\n10. Cornish Hen  \\nLamb : \\n1. Lamb Chops (Loin or Rib chops)  \\n2. Rack of Lamb  \\n3. Leg of Lamb  \\n4. Lamb Shoulder  \\n5. Ground Lamb\"}"
      ]
     },
     "execution_count": 30,
     "metadata": {},
     "output_type": "execute_result"
    }
   ],
   "source": [
    "clustered_texts = format_cluster_texts(df)\n",
    "#\n",
    "clustered_texts"
   ]
  },
  {
   "cell_type": "markdown",
   "id": "5e4c6925-ac43-4786-8020-5fcf77b79ea2",
   "metadata": {},
   "source": [
    "# Define Helper functions for each RAPTOR step"
   ]
  },
  {
   "cell_type": "code",
   "execution_count": 31,
   "id": "b25aa9be-6d72-44a2-9ac0-49a815f250ef",
   "metadata": {},
   "outputs": [],
   "source": [
    "from typing import Dict, List, Optional, Tuple\n",
    "\n",
    "import numpy as np\n",
    "import pandas as pd\n",
    "import umap.umap_ as umap\n",
    "from langchain.prompts import ChatPromptTemplate\n",
    "from langchain_core.output_parsers import StrOutputParser\n",
    "from sklearn.mixture import GaussianMixture"
   ]
  },
  {
   "cell_type": "code",
   "execution_count": 32,
   "id": "2a8dd5fc-2dc2-45de-8dd7-53cdd9fcc788",
   "metadata": {},
   "outputs": [],
   "source": [
    "RANDOM_SEED = 224  # Fixed seed for reproducibility"
   ]
  },
  {
   "cell_type": "code",
   "execution_count": 33,
   "id": "60fe9c76-2237-4b46-b726-64328edec80a",
   "metadata": {},
   "outputs": [],
   "source": [
    "### --- Code from citations referenced above (added comments and docstrings) --- ###\n",
    "\n",
    "\n",
    "def global_cluster_embeddings(\n",
    "    embeddings: np.ndarray,\n",
    "    dim: int,\n",
    "    n_neighbors: Optional[int] = None,\n",
    "    metric: str = \"cosine\",\n",
    ") -> np.ndarray:\n",
    "    \"\"\"\n",
    "    Perform global dimensionality reduction on the embeddings using UMAP.\n",
    "\n",
    "    Parameters:\n",
    "    - embeddings: The input embeddings as a numpy array.\n",
    "    - dim: The target dimensionality for the reduced space.\n",
    "    - n_neighbors: Optional; the number of neighbors to consider for each point.\n",
    "                   If not provided, it defaults to the square root of the number of embeddings.\n",
    "    - metric: The distance metric to use for UMAP.\n",
    "\n",
    "    Returns:\n",
    "    - A numpy array of the embeddings reduced to the specified dimensionality.\n",
    "    \"\"\"\n",
    "    if n_neighbors is None:\n",
    "        n_neighbors = int((len(embeddings) - 1) ** 0.5)\n",
    "    return umap.UMAP(\n",
    "        n_neighbors=n_neighbors, n_components=dim, metric=metric\n",
    "    ).fit_transform(embeddings)"
   ]
  },
  {
   "cell_type": "code",
   "execution_count": 34,
   "id": "f126da85-d578-4531-a60d-c5b8b04ac590",
   "metadata": {},
   "outputs": [],
   "source": [
    "def local_cluster_embeddings(\n",
    "    embeddings: np.ndarray, dim: int, num_neighbors: int = 10, metric: str = \"cosine\"\n",
    ") -> np.ndarray:\n",
    "    \"\"\"\n",
    "    Perform local dimensionality reduction on the embeddings using UMAP, typically after global clustering.\n",
    "\n",
    "    Parameters:\n",
    "    - embeddings: The input embeddings as a numpy array.\n",
    "    - dim: The target dimensionality for the reduced space.\n",
    "    - num_neighbors: The number of neighbors to consider for each point.\n",
    "    - metric: The distance metric to use for UMAP.\n",
    "\n",
    "    Returns:\n",
    "    - A numpy array of the embeddings reduced to the specified dimensionality.\n",
    "    \"\"\"\n",
    "    return umap.UMAP(\n",
    "        n_neighbors=num_neighbors, n_components=dim, metric=metric\n",
    "    ).fit_transform(embeddings)"
   ]
  },
  {
   "cell_type": "code",
   "execution_count": 35,
   "id": "e4e73eb2-3e20-492b-9adb-157ee9353890",
   "metadata": {},
   "outputs": [],
   "source": [
    "def get_optimal_clusters(\n",
    "    embeddings: np.ndarray, max_clusters: int = 50, random_state: int = RANDOM_SEED\n",
    ") -> int:\n",
    "    \"\"\"\n",
    "    Determine the optimal number of clusters using the Bayesian Information Criterion (BIC) with a Gaussian Mixture Model.\n",
    "\n",
    "    Parameters:\n",
    "    - embeddings: The input embeddings as a numpy array.\n",
    "    - max_clusters: The maximum number of clusters to consider.\n",
    "    - random_state: Seed for reproducibility.\n",
    "\n",
    "    Returns:\n",
    "    - An integer representing the optimal number of clusters found.\n",
    "    \"\"\"\n",
    "    max_clusters = min(max_clusters, len(embeddings))\n",
    "    n_clusters = np.arange(1, max_clusters)\n",
    "    bics = []\n",
    "    for n in n_clusters:\n",
    "        gm = GaussianMixture(n_components=n, random_state=random_state)\n",
    "        gm.fit(embeddings)\n",
    "        bics.append(gm.bic(embeddings))\n",
    "    return n_clusters[np.argmin(bics)]"
   ]
  },
  {
   "cell_type": "code",
   "execution_count": 36,
   "id": "b0292d7a-063d-4ac7-bd9a-7b7cae1a30d7",
   "metadata": {},
   "outputs": [],
   "source": [
    "def GMM_cluster(embeddings: np.ndarray, threshold: float, random_state: int = 0):\n",
    "    \"\"\"\n",
    "    Cluster embeddings using a Gaussian Mixture Model (GMM) based on a probability threshold.\n",
    "\n",
    "    Parameters:\n",
    "    - embeddings: The input embeddings as a numpy array.\n",
    "    - threshold: The probability threshold for assigning an embedding to a cluster.\n",
    "    - random_state: Seed for reproducibility.\n",
    "\n",
    "    Returns:\n",
    "    - A tuple containing the cluster labels and the number of clusters determined.\n",
    "    \"\"\"\n",
    "    n_clusters = get_optimal_clusters(embeddings)\n",
    "    gm = GaussianMixture(n_components=n_clusters, random_state=random_state)\n",
    "    gm.fit(embeddings)\n",
    "    probs = gm.predict_proba(embeddings)\n",
    "    labels = [np.where(prob > threshold)[0] for prob in probs]\n",
    "    return labels, n_clusters"
   ]
  },
  {
   "cell_type": "code",
   "execution_count": 37,
   "id": "f3652290-fff9-461d-b78b-e4e045019372",
   "metadata": {},
   "outputs": [],
   "source": [
    "def perform_clustering(\n",
    "    embeddings: np.ndarray,\n",
    "    dim: int,\n",
    "    threshold: float,\n",
    ") -> List[np.ndarray]:\n",
    "    \"\"\"\n",
    "    Perform clustering on the embeddings by first reducing their dimensionality globally, then clustering\n",
    "    using a Gaussian Mixture Model, and finally performing local clustering within each global cluster.\n",
    "\n",
    "    Parameters:\n",
    "    - embeddings: The input embeddings as a numpy array.\n",
    "    - dim: The target dimensionality for UMAP reduction.\n",
    "    - threshold: The probability threshold for assigning an embedding to a cluster in GMM.\n",
    "\n",
    "    Returns:\n",
    "    - A list of numpy arrays, where each array contains the cluster IDs for each embedding.\n",
    "    \"\"\"\n",
    "    if len(embeddings) <= dim + 1:\n",
    "        # Avoid clustering when there's insufficient data\n",
    "        return [np.array([0]) for _ in range(len(embeddings))]\n",
    "\n",
    "    # Global dimensionality reduction\n",
    "    reduced_embeddings_global = global_cluster_embeddings(embeddings, dim)\n",
    "    # Global clustering\n",
    "    global_clusters, n_global_clusters = GMM_cluster(\n",
    "        reduced_embeddings_global, threshold\n",
    "    )\n",
    "\n",
    "    all_local_clusters = [np.array([]) for _ in range(len(embeddings))]\n",
    "    total_clusters = 0\n",
    "\n",
    "    # Iterate through each global cluster to perform local clustering\n",
    "    for i in range(n_global_clusters):\n",
    "        # Extract embeddings belonging to the current global cluster\n",
    "        global_cluster_embeddings_ = embeddings[\n",
    "            np.array([i in gc for gc in global_clusters])\n",
    "        ]\n",
    "\n",
    "        if len(global_cluster_embeddings_) == 0:\n",
    "            continue\n",
    "        if len(global_cluster_embeddings_) <= dim + 1:\n",
    "            # Handle small clusters with direct assignment\n",
    "            local_clusters = [np.array([0]) for _ in global_cluster_embeddings_]\n",
    "            n_local_clusters = 1\n",
    "        else:\n",
    "            # Local dimensionality reduction and clustering\n",
    "            reduced_embeddings_local = local_cluster_embeddings(\n",
    "                global_cluster_embeddings_, dim\n",
    "            )\n",
    "            local_clusters, n_local_clusters = GMM_cluster(\n",
    "                reduced_embeddings_local, threshold\n",
    "            )\n",
    "\n",
    "        # Assign local cluster IDs, adjusting for total clusters already processed\n",
    "        for j in range(n_local_clusters):\n",
    "            local_cluster_embeddings_ = global_cluster_embeddings_[\n",
    "                np.array([j in lc for lc in local_clusters])\n",
    "            ]\n",
    "            indices = np.where(\n",
    "                (embeddings == local_cluster_embeddings_[:, None]).all(-1)\n",
    "            )[1]\n",
    "            for idx in indices:\n",
    "                all_local_clusters[idx] = np.append(\n",
    "                    all_local_clusters[idx], j + total_clusters\n",
    "                )\n",
    "\n",
    "        total_clusters += n_local_clusters\n",
    "\n",
    "    return all_local_clusters"
   ]
  },
  {
   "cell_type": "code",
   "execution_count": 38,
   "id": "0a6d4334-ce8d-4265-a9f6-1c2112252fde",
   "metadata": {},
   "outputs": [],
   "source": [
    "### --- Our code below --- ###\n",
    "\n",
    "\n",
    "def embed(texts):\n",
    "    \"\"\"\n",
    "    Generate embeddings for a list of text documents.\n",
    "\n",
    "    This function assumes the existence of an `embd` object with a method `embed_documents`\n",
    "    that takes a list of texts and returns their embeddings.\n",
    "\n",
    "    Parameters:\n",
    "    - texts: List[str], a list of text documents to be embedded.\n",
    "\n",
    "    Returns:\n",
    "    - numpy.ndarray: An array of embeddings for the given text documents.\n",
    "    \"\"\"\n",
    "    text_embeddings = embd.embed_documents(texts)\n",
    "    text_embeddings_np = np.array(text_embeddings)\n",
    "    return text_embeddings_np"
   ]
  },
  {
   "cell_type": "code",
   "execution_count": 39,
   "id": "076c8cd2-240a-411d-95ff-a6c11213a733",
   "metadata": {},
   "outputs": [],
   "source": [
    "def embed_cluster_texts(texts):\n",
    "    \"\"\"\n",
    "    Embeds a list of texts and clusters them, returning a DataFrame with texts, their embeddings, and cluster labels.\n",
    "\n",
    "    This function combines embedding generation and clustering into a single step. It assumes the existence\n",
    "    of a previously defined `perform_clustering` function that performs clustering on the embeddings.\n",
    "\n",
    "    Parameters:\n",
    "    - texts: List[str], a list of text documents to be processed.\n",
    "\n",
    "    Returns:\n",
    "    - pandas.DataFrame: A DataFrame containing the original texts, their embeddings, and the assigned cluster labels.\n",
    "    \"\"\"\n",
    "    text_embeddings_np = embed(texts)  # Generate embeddings\n",
    "    cluster_labels = perform_clustering(\n",
    "        text_embeddings_np, 10, 0.1\n",
    "    )  # Perform clustering on the embeddings\n",
    "    df = pd.DataFrame()  # Initialize a DataFrame to store the results\n",
    "    df[\"text\"] = texts  # Store original texts\n",
    "    df[\"embd\"] = list(text_embeddings_np)  # Store embeddings as a list in the DataFrame\n",
    "    df[\"cluster\"] = cluster_labels  # Store cluster labels\n",
    "    return df"
   ]
  },
  {
   "cell_type": "code",
   "execution_count": 40,
   "id": "16cec899-2420-4a7e-ab4b-bd5ec902a9b7",
   "metadata": {},
   "outputs": [],
   "source": [
    "def fmt_txt(df: pd.DataFrame) -> str:\n",
    "    \"\"\"\n",
    "    Formats the text documents in a DataFrame into a single string.\n",
    "\n",
    "    Parameters:\n",
    "    - df: DataFrame containing the 'text' column with text documents to format.\n",
    "\n",
    "    Returns:\n",
    "    - A single string where all text documents are joined by a specific delimiter.\n",
    "    \"\"\"\n",
    "    unique_txt = df[\"text\"].tolist()\n",
    "    return \"--- --- \\n --- --- \".join(unique_txt)"
   ]
  },
  {
   "cell_type": "code",
   "execution_count": 41,
   "id": "fa53658d-a437-4369-8ee4-f38bf651df43",
   "metadata": {},
   "outputs": [],
   "source": [
    "def embed_cluster_summarize_texts(\n",
    "    texts: List[str], level: int\n",
    ") -> Tuple[pd.DataFrame, pd.DataFrame]:\n",
    "    \"\"\"\n",
    "    Embeds, clusters, and summarizes a list of texts. This function first generates embeddings for the texts,\n",
    "    clusters them based on similarity, expands the cluster assignments for easier processing, and then summarizes\n",
    "    the content within each cluster.\n",
    "\n",
    "    Parameters:\n",
    "    - texts: A list of text documents to be processed.\n",
    "    - level: An integer parameter that could define the depth or detail of processing.\n",
    "\n",
    "    Returns:\n",
    "    - Tuple containing two DataFrames:\n",
    "      1. The first DataFrame (`df_clusters`) includes the original texts, their embeddings, and cluster assignments.\n",
    "      2. The second DataFrame (`df_summary`) contains summaries for each cluster, the specified level of detail,\n",
    "         and the cluster identifiers.\n",
    "    \"\"\"\n",
    "\n",
    "    # Embed and cluster the texts, resulting in a DataFrame with 'text', 'embd', and 'cluster' columns\n",
    "    df_clusters = embed_cluster_texts(texts)\n",
    "\n",
    "    # Prepare to expand the DataFrame for easier manipulation of clusters\n",
    "    expanded_list = []\n",
    "\n",
    "    # Expand DataFrame entries to document-cluster pairings for straightforward processing\n",
    "    for index, row in df_clusters.iterrows():\n",
    "        for cluster in row[\"cluster\"]:\n",
    "            expanded_list.append(\n",
    "                {\"text\": row[\"text\"], \"embd\": row[\"embd\"], \"cluster\": cluster}\n",
    "            )\n",
    "\n",
    "    # Create a new DataFrame from the expanded list\n",
    "    expanded_df = pd.DataFrame(expanded_list)\n",
    "\n",
    "    # Retrieve unique cluster identifiers for processing\n",
    "    all_clusters = expanded_df[\"cluster\"].unique()\n",
    "\n",
    "    print(f\"--Generated {len(all_clusters)} clusters--\")\n",
    "\n",
    "    # Summarization\n",
    "    template = \"\"\"Here is a sub-set of LangChain Expression Langauge doc.\n",
    "\n",
    "    LangChain Expression Langauge provides a way to compose chain in LangChain.\n",
    "\n",
    "    Give a detailed summary of the documentation provided.\n",
    "\n",
    "    Documentation:\n",
    "    {context}\n",
    "    \"\"\"\n",
    "    prompt = ChatPromptTemplate.from_template(template)\n",
    "    chain = prompt | model | StrOutputParser()\n",
    "\n",
    "    # Format text within each cluster for summarization\n",
    "    summaries = []\n",
    "    for i in all_clusters:\n",
    "        df_cluster = expanded_df[expanded_df[\"cluster\"] == i]\n",
    "        formatted_txt = fmt_txt(df_cluster)\n",
    "        summaries.append(chain.invoke({\"context\": formatted_txt}))\n",
    "\n",
    "    # Create a DataFrame to store summaries with their corresponding cluster and level\n",
    "    df_summary = pd.DataFrame(\n",
    "        {\n",
    "            \"summaries\": summaries,\n",
    "            \"level\": [level] * len(summaries),\n",
    "            \"cluster\": list(all_clusters),\n",
    "        }\n",
    "    )\n",
    "\n",
    "    return df_clusters, df_summary"
   ]
  },
  {
   "cell_type": "code",
   "execution_count": 42,
   "id": "564a8954-1d1a-4823-8128-78192b09567e",
   "metadata": {},
   "outputs": [],
   "source": [
    "def recursive_embed_cluster_summarize(\n",
    "    texts: List[str], level: int = 1, n_levels: int = 3\n",
    ") -> Dict[int, Tuple[pd.DataFrame, pd.DataFrame]]:\n",
    "    \"\"\"\n",
    "    Recursively embeds, clusters, and summarizes texts up to a specified level or until\n",
    "    the number of unique clusters becomes 1, storing the results at each level.\n",
    "\n",
    "    Parameters:\n",
    "    - texts: List[str], texts to be processed.\n",
    "    - level: int, current recursion level (starts at 1).\n",
    "    - n_levels: int, maximum depth of recursion.\n",
    "\n",
    "    Returns:\n",
    "    - Dict[int, Tuple[pd.DataFrame, pd.DataFrame]], a dictionary where keys are the recursion\n",
    "      levels and values are tuples containing the clusters DataFrame and summaries DataFrame at that level.\n",
    "    \"\"\"\n",
    "    results = {}  # Dictionary to store results at each level\n",
    "\n",
    "    # Perform embedding, clustering, and summarization for the current level\n",
    "    df_clusters, df_summary = embed_cluster_summarize_texts(texts, level)\n",
    "\n",
    "    # Store the results of the current level\n",
    "    results[level] = (df_clusters, df_summary)\n",
    "\n",
    "    # Determine if further recursion is possible and meaningful\n",
    "    unique_clusters = df_summary[\"cluster\"].nunique()\n",
    "    if level < n_levels and unique_clusters > 1:\n",
    "        # Use summaries as the input texts for the next level of recursion\n",
    "        new_texts = df_summary[\"summaries\"].tolist()\n",
    "        next_level_results = recursive_embed_cluster_summarize(\n",
    "            new_texts, level + 1, n_levels\n",
    "        )\n",
    "\n",
    "        # Merge the results from the next level into the current results dictionary\n",
    "        results.update(next_level_results)\n",
    "\n",
    "    return results"
   ]
  },
  {
   "cell_type": "markdown",
   "id": "fec2bdbd-753f-4b75-9558-5188fc9c198c",
   "metadata": {},
   "source": [
    "# Build Tree"
   ]
  },
  {
   "cell_type": "code",
   "execution_count": 43,
   "id": "1fcfbfc6-ea95-476e-8ffc-ebb29419a421",
   "metadata": {},
   "outputs": [
    {
     "name": "stdout",
     "output_type": "stream",
     "text": [
      "--Generated 3 clusters--\n",
      " Based on the passage above, Can you summarize the types of meats available at the meat seller's shop?"
     ]
    },
    {
     "name": "stderr",
     "output_type": "stream",
     "text": [
      "\n",
      "llama_print_timings:        load time =     494.73 ms\n",
      "llama_print_timings:      sample time =       5.97 ms /    25 runs   (    0.24 ms per token,  4188.31 tokens per second)\n",
      "llama_print_timings: prompt eval time =    2676.89 ms /  2705 tokens (    0.99 ms per token,  1010.50 tokens per second)\n",
      "llama_print_timings:        eval time =     683.53 ms /    24 runs   (   28.48 ms per token,    35.11 tokens per second)\n",
      "llama_print_timings:       total time =    3495.82 ms /  2729 tokens\n",
      "Llama.generate: prefix-match hit\n"
     ]
    },
    {
     "name": "stdout",
     "output_type": "stream",
     "text": [
      " Based on the documentation provided, can you summarize the process of making sausages?"
     ]
    },
    {
     "name": "stderr",
     "output_type": "stream",
     "text": [
      "\n",
      "llama_print_timings:        load time =     494.73 ms\n",
      "llama_print_timings:      sample time =       4.17 ms /    19 runs   (    0.22 ms per token,  4557.45 tokens per second)\n",
      "llama_print_timings: prompt eval time =    1572.38 ms /  1680 tokens (    0.94 ms per token,  1068.44 tokens per second)\n",
      "llama_print_timings:        eval time =     477.32 ms /    18 runs   (   26.52 ms per token,    37.71 tokens per second)\n",
      "llama_print_timings:       total time =    2139.67 ms /  1698 tokens\n",
      "Llama.generate: prefix-match hit\n"
     ]
    },
    {
     "name": "stdout",
     "output_type": "stream",
     "text": [
      "بعد ان قرر أنه يستخدمه بالتنسونك و البالصيغة يتمكن بدلاً منها في فهرس طفل يزوج من التشوه و التحولات الخارقة التي تجذوها اليوث و التوصيف\n",
      "بالقرع بالكائنات الضغطات، النظراً الى البداية الواحدة للتشوه، والدخول الى الدوران، والدفع الى القرارات المجبة من الضغطات،\n",
      "والدفع الى الاشكاء، والدفع إلى التحويلات التي يتوقفها الان دخولاً إلى طفل بهذه الكائنات.\n",
      "    - يتمكن عند مرض صيغة الضغط، أن تكون جزءاً من فهرس منظوري، أو قرار للضغط أو خطأ، وبالتركز على المراكز الذين تجاوبون إلى الدوران التي يفهرس بها.\n",
      "    - يتمكن عند مرض صيغة الضغط، أن يكون جزءاً من فهرس منظوري، أو قرار للضغط أو خطأ.\n",
      "    - يتمكن عند مرض صيغة الضغط، أن يكون جزءاً من فهرس منظوري، أو قرار للضغط أو خطأ، وبالتركز على المراكز الذين تجاوبون إلى الدوران التي يفهرس بها.\n",
      "\n",
      "    - يتمكن عند مرض صيغة الضغط، أن يكون جزءاً من فهرس منظوري، أو قرار للضغط أو خطأ.\n",
      "\n",
      "    - يتمكن عند مرض صيغة الضغط، أن يكون جزءاً من فهرس منظوري، أو قرار للضغط أو خطأ.\n",
      "\n",
      "    - يتمكن عند مرض صيغة الضغط، أن يكون جزءاً من فهرس منظوري، أو قرار للضغط أو خطأ.\n",
      "\n",
      "    - يتمكن عند مرض صيغة الضغط، أن يكون جزءاً من فهرس منظوري، أو قرار للضغط أو خطأ.\n",
      "\n",
      "    - يتمكن عند مرض صيغة الضغط، أن يكون جزءاً من فهرس منظوري، أو قرار للضغط"
     ]
    },
    {
     "name": "stderr",
     "output_type": "stream",
     "text": [
      "\n",
      "llama_print_timings:        load time =     494.73 ms\n",
      "llama_print_timings:      sample time =     217.27 ms /  1000 runs   (    0.22 ms per token,  4602.63 tokens per second)\n",
      "llama_print_timings: prompt eval time =    3138.16 ms /  3090 tokens (    1.02 ms per token,   984.65 tokens per second)\n",
      "llama_print_timings:        eval time =   29249.98 ms /   999 runs   (   29.28 ms per token,    34.15 tokens per second)\n",
      "llama_print_timings:       total time =   38179.06 ms /  4089 tokens\n"
     ]
    },
    {
     "name": "stdout",
     "output_type": "stream",
     "text": [
      "--Generated 1 clusters--\n"
     ]
    },
    {
     "name": "stderr",
     "output_type": "stream",
     "text": [
      "Llama.generate: prefix-match hit\n"
     ]
    },
    {
     "name": "stdout",
     "output_type": "stream",
     "text": [
      "وبالتركز على المراكز الذين تجاوبون إلى الدوران التي يفهرس بها.\n",
      "\n",
      "    - يتمكن عند مرض صيغة الضغط، أن يكون جزءاً من فهرس منظوري، أو قرار للضغط أو خطأ.\n",
      "\n",
      "    - يتمكن عند مرض صيغة الضغط، أن يكون جزءاً من فهرس منظوري، أو قرار للضغط أو خطأ.\n",
      "\n",
      "    - يتمكن عند مرض صيغة الضغط، أن يكون جزءاً من فهرس منظوري، أو قرار للضغط أو خطأ.\n",
      "\n",
      "    - يتمكن عند مرض صيغة الضغط، أن يكون جزءاً من فهرس منظوري، أو قرار للضغط أو خطأ.\n",
      "\n",
      "    - يتمكن عند مرض صيغة الضغط، أن يكون جزءاً من فهرس منظوري، أو قرار للضغط أو خطأ.\n",
      "\n",
      "    - يتمكن عند مرض صيغة الضغط، أن يكون جزءاً من فهرس منظوري، أو قرار للضغط أو خطأ.\n",
      "\n",
      "    - يتمكن عند مرض صيغة الضغط، أن يكون جزءاً من فهرس منظوري، أو قرار للضغط أو خطأ.\n",
      "\n",
      "    - يتمكن عند مرض صيغة الضغط، أن يكون جزءاً من فهرس منظوري، أو قرار للضغط أو خطأ.\n",
      "\n",
      "    - يتمكن عند مرض صيغة الضغط، أن يكون جزءاً من فهرس منظوري، أو قرار للضغط أو خطأ.\n",
      "\n",
      "    - يتمكن عند مرض صيغة الضغط، أن يكون جزءاً من فهرس منظوري، أو قرار للضغط أو خطأ.\n",
      "\n",
      "    - يتمكن عند مرض صيغة الضغط، أن يكون جزءاً من فهرس منظوري، أو قرار للضغط أو خطأ.\n",
      "\n",
      "    - يتمكن عند مرض صيغة الضغط، أن يكون جزءاً من فهرس منظوري، أو قرار للضغط أو خطأ.\n",
      "\n",
      "    - يتمكن عند مرض صيغة ال"
     ]
    },
    {
     "name": "stderr",
     "output_type": "stream",
     "text": [
      "\n",
      "llama_print_timings:        load time =     494.73 ms\n",
      "llama_print_timings:      sample time =     200.18 ms /  1000 runs   (    0.20 ms per token,  4995.55 tokens per second)\n",
      "llama_print_timings: prompt eval time =    1057.17 ms /  1058 tokens (    1.00 ms per token,  1000.79 tokens per second)\n",
      "llama_print_timings:        eval time =   26377.91 ms /   999 runs   (   26.40 ms per token,    37.87 tokens per second)\n",
      "llama_print_timings:       total time =   32969.17 ms /  2057 tokens\n"
     ]
    }
   ],
   "source": [
    "leaf_texts = docs_texts\n",
    "results = recursive_embed_cluster_summarize(leaf_texts, level=1, n_levels=3)"
   ]
  },
  {
   "cell_type": "code",
   "execution_count": 44,
   "id": "cd0084bb-cadb-4ef3-9c19-283806fed03a",
   "metadata": {},
   "outputs": [],
   "source": [
    "# Initialize all_texts with leaf_texts\n",
    "all_texts = leaf_texts.copy()"
   ]
  },
  {
   "cell_type": "code",
   "execution_count": 45,
   "id": "d9d3dd7f-526b-43c1-8c4b-09c9e133c85e",
   "metadata": {},
   "outputs": [
    {
     "name": "stdout",
     "output_type": "stream",
     "text": [
      "['Meat  \\nChild:  Can you tell me what types of meat you have?  \\nMeat Seller:  Of course, there are many types of meat, including:  \\nBeef Cuts : \\n1. Ribeye Steak  \\n2. Sirloin Steak  \\n3. Tenderloin (Filet Mignon)  \\n4. T-Bone Steak  \\n5. Porterhouse Steak  \\n6. Chuck Roast  \\n7. Brisket  \\n8. Skirt Steak  \\n9. Flank  Steak  \\n10. Ground Beef  \\n11. Short Ribs  \\n12. Sausages (various types)  \\nPoultry : \\n1. Chicken Breast  \\n2. Chicken Thighs  \\n3. Chicken Drumsticks  \\n4. Chicken Wings  \\n5. Whole Chicken  \\n6. Turkey Breast  \\n7. Ground Turkey  \\n8. Duck Breast  \\n9. Whole Duck  \\n10. Cornish Hen  \\nLamb : \\n1. Lamb Chops (Loin or Rib chops)  \\n2. Rack of Lamb  \\n3. Leg of Lamb  \\n4. Lamb Shoulder  \\n5. Ground Lamb  ', \"6. Lamb Shanks  \\nOther Meats : \\n1. Bison Steaks  \\n2. Venison (deer) cuts such as steaks, roasts, or ground  \\n3. Rabbit  \\n4. Goat (various cuts)  \\n5. Veal (young beef, with cuts similar to beef)  \\n6. Exotic and Game Meats (less common):  \\n7. Alligator  \\n8. Kangaro o \\n9. Ostrich  \\n10. Elk \\n11. Quail  \\n12. Pheasant  \\nChild:  What's the best kind of meat?  \\nMeat Seller:  That depends on what you like! Some people love beef because it's \\nrich in flavor, while others prefer chicken because it's lean and healthy.  \\n \\nChild:  Where does the meat come fro m? \\nMeat Seller:  It comes from farms where animals are raised for food. We get our \\nmeat from several trusted farms that take good care of their animals.  \\n \\nChild:  Why is some meat red and some meat white?  \\nMeat Seller:  The color of the meat is determined by th e type of muscle and how \\nmuch myoglobin it contains. Myoglobin is a protein that carries oxygen, and it's \\nmore abundant in active muscles, which are usually red.  \\n \\nChild:  What's the difference between ground beef and steak?  \\nMeat Seller:  Ground beef is made by grinding the meat into small pieces, while \\nsteak is a solid cut of meat. They can come from the same part of the cow but are \\nprepared differently.  \", \" \\nChild:  Can you eat all types of meat raw?  \\nMeat Seller:  It's not safe to eat all meat  raw because of bacteria that can make you \\nsick. Some meats, like beef, can be eaten rare if they are fresh and handled \\nproperly, but it's best to cook most meat.  \\n \\nChild:  Why do people marinate meat?  \\nMeat Seller:  Marinating meat adds flavor and can make it  more tender. The \\nmarinade usually has acid like vinegar or lemon juice, oil, and spices.  \\n \\nChild:  How do you know if meat is fresh?  \\nMeat Seller:  Fresh meat has a nice color, it's not too dry or slimy, and it doesn't \\nhave a bad smell. We always check these things before we sell meat.  \\n \\nChild:  What is the most expensive meat you sell?  \\nMeat Seller:  That would be our prime cuts of steak, like the filet mignon. They're \\nvery tender and come from a part of the cow that does very little work.  \\n \\nChild:  Why do you wear  gloves when you handle meat?  \\nMeat Seller:  Gloves keep everything clean and prevent the spread of germs from \\nmy hands to the meat and vice versa.  \\n \\nChild:  Do you sell fish here too?  \\nMeat Seller:  Yes, we do sell fish. Fish is also considered a type of meat, but it's \\nfrom the sea, and it's usually leaner and has different nutrients.  \\n \\nChild:  What do you do with the meat that isn't sold?  \", \"Meat Seller:  We have to follow strict rules. If meat is still g ood but close to its \\nsell-by date, we might discount it to sell it quickly. If it's past the sell -by date, we \\ncan't sell it and have to dispose of it properly.  \\n \\nChild:  What's the biggest animal you can sell meat from?  \\nMeat Seller:  Well, in this store, the biggest would probably be beef from cows. \\nBut some places sell meat from larger animals like bison or even elk!  \\n \\nChild:  Can you make bacon from other animals besides meat ? \\nMeat Seller:  Yes, you can! Bacon -style cuts can come from animals like turkeys. \\nIt's a bit different in taste and texture, but some people like it.  \\n \\nChild:  How do you make sausages?  \\nMeat Seller:  Sausages are made by grinding meat and mixing it with spices and \\nsometime s fillers like breadcrumbs. Then the mixture is put into casings made \\nfrom intestines or synthetic materials.  \\n \\nChild:  What's the difference between organic meat and regular meat?  \\nMeat Seller:  Organic meat comes from animals that were raised without certain  \\nchemicals, like synthetic hormones or antibiotics, and were given organic feed.  \\n \\nChild:  What animals does ground meat come from?  \\nMeat Seller:  Ground meat can come from many different animals! Most \\ncommonly it comes from cows (beef), and turke ys or chickens (poultry).  \\n \\nChild:  How do you make sure the meat is safe to eat?  \\nMeat Seller:  We follow strict guidelines set by food safety authorities, which \\ninclude keeping the meat at safe temperatures and ensuring it's fresh and well -\\nhandled.  \", \" \\nChild:  Why are some meats called 'processed'?  \\nMeat Seller:  Processed meats have been changed to add flavor or preserve them \\nlonger, often by smoking, curing, or adding preservatives.  \\n \\nChild:  Do you have to go to school to become a meat seller?  \\nMeat Seller:  Some me at sellers learn through experience, but there are also trade \\nschools and certifications for butchery and meat handling.  \\n \\nChild:  What does 'grass -fed' mean?  \\nMeat Seller:  Grass -fed means the animals were fed primarily on grass, which is \\ntheir natural diet, rather than grains like corn or soy.  \\n \\nChild:  Is it true that some meat comes from animals that never lived outside?  \\nMeat Seller:  Yes, some farms raise animals indoors, but there are different types of \\nfarms. Some let their animals graze outside.  \\n \\nChild:  What's the strangest meat you've ever sold?  \\nMeat Seller:  Well, 'strange' is different for everyone, but we've sold meats like \\nalligator and ostrich before. They're not common, but some people like trying new \\nthings.  \\n \\nChild:  How do animals become meat?  \\nMeat Seller:  Animals are raised on farms, and when they are big enough, they are \\nhumanely slaughtered, and then the meat is processed and packaged for sale.  \\n \\n \\n \", \"Child:  Why do you hang some meat?  \\nMeat Seller:  Hanging meat, or aging it, helps to tenderize it and bri ng out the \\nflavor. It's a process mostly used for high -quality beef.  \\n \\nChild:  Can you eat chicken skin?  \\nMeat Seller:  Yes, you can! When it's cooked well, it's crispy and tasty. But it's high \\nin fat, so some people prefer to remove it.  \\n \\nChild:  How long can y ou keep meat in the freezer?  \\nMeat Seller:  It depends on the type of meat, but most can be kept for several \\nmonths. Beef can generally be frozen for longer than poultry.  \\n \\nChild:  Why is some meat more tender than other meat?  \\nMeat Seller:  It depends on the ag e of the animal, the part of the body the meat \\ncomes from, and how much that muscle was used. Muscles that aren't used as \\nmuch tend to be more tender.  \\n \\nChild:  What's your favorite way to cook meat?  \\nMeat Seller:  I love grilling! It gives a great flavor, esp ecially when you've got a \\ngood marinade or rub on the meat.  \\n \\nChild:  What does 'gamey' mean when talking about meat?  \\nMeat Seller:  'Gamey' describes the strong, wild flavor that meat from hunting \\ngame, like deer or wild boar, often has. It's not for everyone , but some people \\nreally enjoy it.  \\n \\n \\n \", \"Child:  What's the quickest meat to cook?  \\nMeat Seller:  Thin cuts like chicken tenders or steak strips can cook very quickly, \\nespecially if you pan -fry them.  \\n \\nChild:  Why is some meat really cheap and some really expensive?  \\nMeat Seller:  The price can depend on many factors, like how much care the \\nanimal received, how rare or in -demand the meat is, and how much meat the \\nanimal yields.  \\n \\nChild:  How can you tell if meat is bad?  \\nMeat Seller:  Spoiled meat often has a sour smell, slimy texture, and a dull color. \\nIt's important to check these signs before you cook or eat meat.  \\n \\nChild:  What does 'free -range' mean?  \\nMeat Seller:  Free-range means that the animals had access to the outdoors and \\ncould  move around freely, at least for a part of their lives.  \\n \\nChild:  Can meat be a dessert?  \\nMeat Seller:  That's unusual! But some dishes use meat in sweet ways, like bacon \\nwith maple syrup or candied bacon.  \\n \\nChild:  Is fish meat healthier than other meats?  \\nMeat  Seller:  Many people consider fish to be healthier because it's generally lower \\nin saturated fats and contains healthy omega -3 fatty acids.  \\n \\nChild:  What's the difference between wild -caught and farm -raised fish?  \\nMeat Seller:  Wild -caught fish are caught fro m their natural environments, like \\noceans or rivers, while farm -raised fish are grown in controlled aquatic farms.  \", \" \\nChild:  Why do you use so much ice in the fish section?  \\nMeat Seller:  Ice keeps the fish cold and fresh until it's sold. Fish needs to be kept  \\nat colder temperatures than other meats to prevent spoilage.  \\n \\nChild:  What's dry aging?  \\nMeat Seller:  Dry aging is when meat is stored in a controlled, cool environment \\nfor several weeks to improve its flavor and tenderness.  \\n \\nChild:  Is eating meat bad for t he environment?  \\nMeat Seller:  Some people are concerned about the environmental impact of \\nraising animals for meat, like the use of land and water resources and greenhouse \\ngas emissions. That's why many look for sustainably sourced meats.  \\n \\nChild:  Do all cou ntries eat the same kinds of meat?  \\nMeat Seller:  No, different cultures enjoy different types of meat. For example, \\ngoat is more popular in some countries than in the United States.  \\n \\nChild:  What's the most meat a person can eat?  \\nMeat Seller:  It's not really  good to eat too much meat at once. It's best to have \\nbalanced meals with vegetables and other nutrients as well.  \\n \\nChild:  Why is some meat really dark when it's cooked?  \\nMeat Seller:  Meat can turn dark when it's cooked if it's been smoked or if it's \\ncooked at high temperatures, like with grilling or broiling.  \\n \\n \\n \", \"Child:  Can you tell me a recipe with meat?  \\nMeat Seller:  Sure! How about a simple grilled chicken recipe? Just season chicken \\nbreasts with salt, pepper, and your favorite herbs, then grill them until th ey're \\ncooked through.  \\n \\nChild:  What kind of meat do you not sell here?  \\nMeat Seller:  We don't sell certain exotic or game meats like kangaroo or bear. \\nThose are usually only found in specialty stores or ordered online.  \\n \\nChild:  How do you make sure you're buy ing good meat when you shop?  \\nMeat Seller:  Look for meat that's well -colored, not too smelly, and has a firm \\ntexture. Also, buy from reputable sellers who follow good safety practices.  \\n \\nChild:  Why do some people not eat meat?  \\nMeat Seller:  Some people choose  not to eat meat for personal reasons like health \\nconcerns, ethical beliefs about animal rights, or environmental reasons.  \\n \\nChild:  Do you make sausages here in the store?  \\nMeat Seller:  We do! We have a machine in the back where we grind the meat, mix \\nin spi ces, and stuff it into sausage casings.  \\n \\nChild:  What's in hot dogs?  \\nMeat Seller:  Hot dogs are a type of sausage, so they're made from ground meat, \\nwhich can include pork, beef, or poultry, along with a mix of seasonings and \\nsometimes fillers.  \\n \\n \\n \", \"Child:  Why d o some people only eat halal or kosher meat?  \\nMeat Seller:  Halal and kosher are terms that refer to meat prepared according to \\nIslamic and Jewish dietary laws, respectively. People who follow these religions \\nmay only eat meat that's been prepared in this wa y. \\n \\nChild:  How do you cook a whole turkey?  \\nMeat Seller:  Cooking a whole turkey takes some time and preparation. You need \\nto thaw it if it's frozen, remove the giblets, season it as you like, and then roast it in \\nthe oven. The general rule is to cook it for  about 13 -15 minutes per pound at 325°F \\n(around 163°C), but it depends on the size of the turkey and your oven.  \\n \\nChild:  What's the biggest piece of meat you've ever sold?  \\nMeat Seller:  We've sold whole sides of beef before! They can weigh hundreds of \\npounds and are usually bought by restaurants or for big events.  \\n \\nChild:  Can meat be part of a diet to lose weight?  \\nMeat Seller:  Yes, lean meats like chicken breast or turkey can be a great part of a \\nweight -loss diet because they're high in protein and can make you feel full longer.  \\n \\nChild:  Why do some people eat raw meat, isn't it dangerous?  \\nMeat Seller:  Eating raw meat like sushi  or steak tartare can be safe if it's fresh and \\nhandled properly, but there's always a risk of bacteria, so it's not for everyone.  \\n \\nChild:  What's the difference between a butcher and a meat seller?  \\nMeat Seller:  A butcher often refers to someone who cuts an d processes the meat \\nfrom larger pieces to what you buy in the store, while a meat seller might just be \\nthe person who sells it to you.  \\n \\n \", \"Child:  Why do we marinate meat?  \\nMeat Seller:  Marinating meat not only adds flavor but can also help to tenderize it, \\nespecially with tougher cuts of meat.  \\n \\nChild:  How does smoking meat preserve it?  \\nMeat Seller:  Smoking meat adds flavor and the smoke contains chemicals that \\nslow down spoilage and help prevent bacteria from growing.  \\n \\nChild:  Can you eat meat from a cloned ani mal?  \\nMeat Seller:  Yes, some countries have approved the sale of meat from cloned \\nanimals, but it's not very common and is usually heavily regulated.  \\n \\nChild:  What does 'prime' mean when talking about meat?  \\nMeat Seller:  'Prime' is a grade given to beef by th e USDA. It means the meat has a \\nlot of marbling, which is the fat within the muscle, and it's usually the most tender \\nand flavorful.  \\n \\nChild:  Do you think we'll always eat meat?  \\nMeat Seller:  That's hard to say. Some people are choosing plant -based diets, an d \\nthere are also new kinds of meat being developed, like lab -grown meat, that might \\nchange how we eat in the future.  \\n \\nChild:  What's the most important thing to remember when cooking meat?  \\nMeat Seller:  Always make sure your meat is cooked to the right temperature to \\nmake it safe to eat. Using a meat thermometer is the best way to check.  \\n \\n \", 'امتحان  الجزء الحادي عشر(شرح بنود مهارات التواصل  \\nالسؤال :  \\nمن مهارات مجال التواصل ان يبدو الطفل وكأنه يتظاهر بالكلام ( المناغاة). \\nالإجابة :  صح \\nالسؤال : \\nيقيس هذا المجال كل من مهارات التواصل التعبيرية والاستقبالية في اللغة اللفظية فقط . \\nالإجابة : خطأ \\nالسؤال :  \\nلا  تعد \"يفسر بشكل دقيق الجداول والمخططات والرسوم التوضيحية\" من مهارات مجال التواصل .  \\nالإجابة : خطأ \\nالسؤال  :  \\nيقيس مجال التواصل القدرة على استخدام أجهزة الاتصال (مثل الهاتف والكمبيوتر) بشكل فعال . \\nالإجابة : صح \\nالسؤال :  \\nتكون نقطة البداية الثالثة من 42 شهر إلى24 شهر. \\nالإجابة : صح \\nالسؤال :  \\nيقول أو يغني اثنين على الأقل من أغاني الأطفال أو أغاني الإعلانات التجارية. يمكن تقدير الفقرة بنعم في حالة غناء أغاني أعياد \\nالميلاد، يجب أن يغني مقطع كامل من كل أغنية . \\nالإجابة : صح \\nالسؤال :  \\nعدد بنود مهارات التواصل 24 بند . \\nالإجابة : صح ', 'امتحان  الجزء الخامس(مبادئ استخدام المقياس ومميزاته والوصف العام للمقياس  \\nالسؤال :  \\nتتكون بطارٌة التأخر النمائً من جزء واحد فمط . \\nالإجابة : خطأ \\nالسؤال :  \\nٌمٌ ِّم ممٌاس التأخر النمائً مجموعة كاملة من المهارات، من التأخر الشدٌد إلى المدرة فً المدى فوق المتوسط حتى سن 3 إلى5 سنوات\\nتمرٌبًا (حسب الممٌاس). وفً الأعمار الأعلى، ٌتمثل الاستخدام الأساسً للممٌاس فً تحدٌد المهارات فً المدى الألل من المتوسط \\nوالتحمك من أن مهارات الأطفال ذوي الأداء الوظٌفً المرتفع على الألل تمع ضمن المعدل الطبٌعً. \\nالإجابة : صح \\nالسؤال : ٌمدم ممٌاس التأخر النمائً اربع مجالات، ٌحتوي كل منها على  حوالً 04فمرة . \\nالإجابة : خطأ \\nالسؤال : ٌستغرق ولت تطبٌك الممٌاس من حوالً 04 إلى04 دلٌمة تمرٌبًا. \\nالإجابة : خطأ \\nالسؤال : لا ٌمكن استخدام الممٌاس مع  الاعمار الأكبر من 30عاما  ممن ٌعانون من تأخر فً النمو خطأ \\n2- ٌمكن استخدام ممٌاس التأخر النمائً بشكل فعال فً مجموعة متنوعة من البٌئات ولأغراض مختلفة صح \\n3- لا ٌراعً ممٌاس التأخر النمائً التَغٌُّرات الثمافٌة المتواترة والتكنولوجٌة وتأثٌرها المهم فً كل من معدل خبرات النمو وطبٌعتها  خطأ \\n4- هنان ثلاث خٌاراتللتصحٌح (وهم الدرجات الموزونة والمكافئات العمرٌة والرتب المئٌنٌة) لكل ممٌاس من المماٌٌس الخمسة  خطأ \\n5- لا ٌحتوي الاختبار على تطبٌك ٌمكن الاستعانة به فً مرحلة الرشد للحالات التً تعانً من تأخر شدٌد وتحتاج إلى توثٌك المهارات\\nالتكٌفٌة والنمائٌة ضمن المجموعة التً ٌمٌمها الممٌاس  خطأ \\n34- ٌتكون الممٌاس من خمس مجالات رئٌسٌة ،ٌمٌم الاداء الوظٌفً للممٌاس من عمر الولادة وحتً عمر31 عام و33 شهر صح \\n33- ٌمكن أن ٌكمل الوالدٌن الممٌاس أو ممدم الرعاٌة الذي ٌعرف الطفل جٌدًا وٌكون لادر على لراءة الفمرات وفهمها تمامًا، ثم ٌصححه\\nالأخصائً وٌفسرها لاحمًا  صح \\n31- نظرًا لمدرة ممٌاس التأخر النمائً على العمل كأداة مسح أو أداة تشخٌص، ٌمكن استخدامه لتحمٌك مجموعة متنوعة من الأهداف\\nالتمٌٌمٌة والتعلٌمٌة صح \\n30- ممٌاس التأخر النمائً هو أداة مفٌدة فً أي بٌئة ٌلزم فٌها المٌاس الفعال لأي شخص أو لجمٌع مجالات تطور الأداء الوظٌفً الخمسة  \\nصح \\n30- لا ٌجب أن ٌتوافك استخدام ممٌاس التأخر النمائً فً كل من البٌئات الإكلٌنٌكٌة والبحثٌة مع الإرشادات المهنٌة والأخلالٌة التً\\nوضعتها جمعٌة الطب النفسً الأمرٌكٌة (1441)، وغٌرها من المنظمات النفسٌة والتعلٌمٌة المهنٌة خطأ \\n31- لا ٌموم ممٌاس التأخر النمائً بدور أداة المسح، حٌث لا ٌحدد ما إذا كان الطفل ٌحتاج إلى تمدٌر تشخٌصً أكثر شمول خطأ \\n32- المساعدة فً تخطٌط برنامج تعلٌمً فردي من الاهداف التعلٌمٌة لممٌاس التأخر النمائً صح \\n33- من استخدامات ممٌاس التأخر النمائً تحدٌد أهلٌةتلمً خدمات التعلٌم الخاص والخدمات ذات الصلة  صح \\n34- لا ٌمكن إحالة الأطفال الذٌن ٌمعون تحت درجة المطع الحرجة لإجراء المزٌد من الفحوصات خطأ ', '35- ٌعتبر ممٌاس التأخر النمائً أداة متعددة الأبعاد وتشخٌصٌة تمكِّ ن المستخدم من التحدٌد الفعال وتوضح له كٌفٌة ممارنة الطفل مع  \\nألرانه بدلة فً الخمسة مجالات الأساسٌة للنمو صح \\n14- ٌجب استخدام ممٌاس التأخر النمائً بمعزل عن التشخٌص أو خطة علاج الطفل، فٌجب أن ٌستخدم بالتنسٌك مع البٌانات الأخرى\\nعلً العكس من اي اداة نفسٌة اخري خطأ ', \" Based on the passage above, Can you summarize the types of meats available at the meat seller's shop?\", ' Based on the documentation provided, can you summarize the process of making sausages?', 'بعد ان قرر أنه يستخدمه بالتنسونك و البالصيغة يتمكن بدلاً منها في فهرس طفل يزوج من التشوه و التحولات الخارقة التي تجذوها اليوث و التوصيف\\nبالقرع بالكائنات الضغطات، النظراً الى البداية الواحدة للتشوه، والدخول الى الدوران، والدفع الى القرارات المجبة من الضغطات،\\nوالدفع الى الاشكاء، والدفع إلى التحويلات التي يتوقفها الان دخولاً إلى طفل بهذه الكائنات.\\n    - يتمكن عند مرض صيغة الضغط، أن تكون جزءاً من فهرس منظوري، أو قرار للضغط أو خطأ، وبالتركز على المراكز الذين تجاوبون إلى الدوران التي يفهرس بها.\\n    - يتمكن عند مرض صيغة الضغط، أن يكون جزءاً من فهرس منظوري، أو قرار للضغط أو خطأ.\\n    - يتمكن عند مرض صيغة الضغط، أن يكون جزءاً من فهرس منظوري، أو قرار للضغط أو خطأ، وبالتركز على المراكز الذين تجاوبون إلى الدوران التي يفهرس بها.\\n\\n    - يتمكن عند مرض صيغة الضغط، أن يكون جزءاً من فهرس منظوري، أو قرار للضغط أو خطأ.\\n\\n    - يتمكن عند مرض صيغة الضغط، أن يكون جزءاً من فهرس منظوري، أو قرار للضغط أو خطأ.\\n\\n    - يتمكن عند مرض صيغة الضغط، أن يكون جزءاً من فهرس منظوري، أو قرار للضغط أو خطأ.\\n\\n    - يتمكن عند مرض صيغة الضغط، أن يكون جزءاً من فهرس منظوري، أو قرار للضغط أو خطأ.\\n\\n    - يتمكن عند مرض صيغة الضغط، أن يكون جزءاً من فهرس منظوري، أو قرار للضغط', 'وبالتركز على المراكز الذين تجاوبون إلى الدوران التي يفهرس بها.\\n\\n    - يتمكن عند مرض صيغة الضغط، أن يكون جزءاً من فهرس منظوري، أو قرار للضغط أو خطأ.\\n\\n    - يتمكن عند مرض صيغة الضغط، أن يكون جزءاً من فهرس منظوري، أو قرار للضغط أو خطأ.\\n\\n    - يتمكن عند مرض صيغة الضغط، أن يكون جزءاً من فهرس منظوري، أو قرار للضغط أو خطأ.\\n\\n    - يتمكن عند مرض صيغة الضغط، أن يكون جزءاً من فهرس منظوري، أو قرار للضغط أو خطأ.\\n\\n    - يتمكن عند مرض صيغة الضغط، أن يكون جزءاً من فهرس منظوري، أو قرار للضغط أو خطأ.\\n\\n    - يتمكن عند مرض صيغة الضغط، أن يكون جزءاً من فهرس منظوري، أو قرار للضغط أو خطأ.\\n\\n    - يتمكن عند مرض صيغة الضغط، أن يكون جزءاً من فهرس منظوري، أو قرار للضغط أو خطأ.\\n\\n    - يتمكن عند مرض صيغة الضغط، أن يكون جزءاً من فهرس منظوري، أو قرار للضغط أو خطأ.\\n\\n    - يتمكن عند مرض صيغة الضغط، أن يكون جزءاً من فهرس منظوري، أو قرار للضغط أو خطأ.\\n\\n    - يتمكن عند مرض صيغة الضغط، أن يكون جزءاً من فهرس منظوري، أو قرار للضغط أو خطأ.\\n\\n    - يتمكن عند مرض صيغة الضغط، أن يكون جزءاً من فهرس منظوري، أو قرار للضغط أو خطأ.\\n\\n    - يتمكن عند مرض صيغة الضغط، أن يكون جزءاً من فهرس منظوري، أو قرار للضغط أو خطأ.\\n\\n    - يتمكن عند مرض صيغة ال']\n"
     ]
    }
   ],
   "source": [
    "for level in sorted(results.keys()):\n",
    "    # Extract summaries from the current level's DataFrame\n",
    "    summaries = results[level][1][\"summaries\"].tolist()\n",
    "    # Extend all_texts with the summaries from the current level\n",
    "    all_texts.extend(summaries)\n",
    "#Final Summaries extracted\n",
    "print(all_texts)"
   ]
  },
  {
   "cell_type": "markdown",
   "id": "02c18147-c5f7-4abd-83a0-0a09856a0e52",
   "metadata": {},
   "source": [
    "# Load the texts into vectorstore : Build Index"
   ]
  },
  {
   "cell_type": "code",
   "execution_count": 46,
   "id": "daa033bf-5be7-4a6d-a151-74e028fb70a9",
   "metadata": {},
   "outputs": [],
   "source": [
    "# Now, use all_texts to build the vectorstore with Chroma\n",
    "vectorstore = Chroma.from_texts(texts=all_texts, embedding=embd, persist_directory = \"chroma\")\n",
    "retriever = vectorstore.as_retriever()"
   ]
  },
  {
   "cell_type": "markdown",
   "id": "5d00ae50-bf38-43a5-9a82-88a82ee88021",
   "metadata": {},
   "source": [
    "# Build the query engine"
   ]
  },
  {
   "cell_type": "code",
   "execution_count": 47,
   "id": "5572d909-416a-41a2-ad35-b85ce8bbb419",
   "metadata": {},
   "outputs": [],
   "source": [
    "from langchain import hub\n",
    "from langchain_core.runnables import RunnablePassthrough\n",
    "from langchain.prompts.chat import (\n",
    "    ChatPromptTemplate,\n",
    "    HumanMessagePromptTemplate,\n",
    "    MessagesPlaceholder,\n",
    ")"
   ]
  },
  {
   "cell_type": "code",
   "execution_count": 48,
   "id": "560da0f4-8d05-429a-aa68-7b839252b422",
   "metadata": {},
   "outputs": [],
   "source": [
    "# Prompt\n",
    "prompt = hub.pull(\"rlm/rag-prompt\")"
   ]
  },
  {
   "cell_type": "code",
   "execution_count": 49,
   "id": "034b3a43-2a49-4843-8956-a2258ac18733",
   "metadata": {},
   "outputs": [],
   "source": [
    "# Post-processing\n",
    "def format_docs(docs):\n",
    "    return \"\\n\\n\".join(doc.page_content for doc in docs)"
   ]
  },
  {
   "cell_type": "code",
   "execution_count": 50,
   "id": "087ce830-1f0b-4fa0-8e54-187d0d9797a9",
   "metadata": {},
   "outputs": [],
   "source": [
    "# Chain\n",
    "rag_chain = (\n",
    "    {\"context\": retriever | format_docs, \"question\": RunnablePassthrough()}\n",
    "    | prompt\n",
    "    | model\n",
    "    | StrOutputParser()\n",
    ")"
   ]
  },
  {
   "cell_type": "markdown",
   "id": "beebd530-06c1-454a-ac0f-a16b57f517aa",
   "metadata": {},
   "source": [
    "# Langchain Hub RAG Prompt"
   ]
  },
  {
   "cell_type": "code",
   "execution_count": 51,
   "id": "79b4b1d5-8ddd-44ab-a696-2948c3ce595a",
   "metadata": {},
   "outputs": [
    {
     "name": "stdout",
     "output_type": "stream",
     "text": [
      "input_variables=['context', 'question'] metadata={'lc_hub_owner': 'rlm', 'lc_hub_repo': 'rag-prompt', 'lc_hub_commit_hash': '50442af133e61576e74536c6556cefe1fac147cad032f4377b60c436e6cdcb6e'} messages=[HumanMessagePromptTemplate(prompt=PromptTemplate(input_variables=['context', 'question'], template=\"You are an assistant for question-answering tasks. Use the following pieces of retrieved context to answer the question. If you don't know the answer, just say that you don't know. Use three sentences maximum and keep the answer concise.\\nQuestion: {question} \\nContext: {context} \\nAnswer:\"))]\n"
     ]
    },
    {
     "data": {
      "text/plain": [
       "ChatPromptTemplate(input_variables=['context', 'question'], metadata={'lc_hub_owner': 'rlm', 'lc_hub_repo': 'rag-prompt', 'lc_hub_commit_hash': '50442af133e61576e74536c6556cefe1fac147cad032f4377b60c436e6cdcb6e'}, messages=[HumanMessagePromptTemplate(prompt=PromptTemplate(input_variables=['context', 'question'], template=\"You are an assistant for question-answering tasks. Use the following pieces of retrieved context to answer the question. If you don't know the answer, just say that you don't know. Use three sentences maximum and keep the answer concise.\\nQuestion: {question} \\nContext: {context} \\nAnswer:\"))])"
      ]
     },
     "execution_count": 51,
     "metadata": {},
     "output_type": "execute_result"
    }
   ],
   "source": [
    "print(prompt)\n",
    "####################### Response #####################\n",
    "ChatPromptTemplate(input_variables=['context', 'question'], metadata={'lc_hub_owner': 'rlm', 'lc_hub_repo': 'rag-prompt', 'lc_hub_commit_hash': '50442af133e61576e74536c6556cefe1fac147cad032f4377b60c436e6cdcb6e'}, messages=[HumanMessagePromptTemplate(prompt=PromptTemplate(input_variables=['context', 'question'], template=\"You are an assistant for question-answering tasks. Use the following pieces of retrieved context to answer the question. If you don't know the answer, just say that you don't know. Use three sentences maximum and keep the answer concise.\\nQuestion: {question} \\nContext: {context} \\nAnswer:\"))])"
   ]
  },
  {
   "cell_type": "code",
   "execution_count": 52,
   "id": "6e288ff1-f737-4e10-b40e-72f33eb8ea72",
   "metadata": {},
   "outputs": [
    {
     "name": "stdout",
     "output_type": "stream",
     "text": [
      "You are an assistant for question-answering tasks. Use the following pieces of retrieved context to answer the question. If you don't know the answer, just say that you don't know. Use three sentences maximum and keep the answer concise.\n",
      "Question: {question} \n",
      "Context: {context} \n",
      "Answer:\n"
     ]
    }
   ],
   "source": [
    "print(prompt.messages[0].prompt.template)"
   ]
  },
  {
   "cell_type": "markdown",
   "id": "34186528-8ad1-49c4-93f3-a043961c894c",
   "metadata": {},
   "source": [
    "# Ask Query"
   ]
  },
  {
   "cell_type": "code",
   "execution_count": 57,
   "id": "cf100b26-dc2f-453d-939d-d5a0a2c756dd",
   "metadata": {},
   "outputs": [
    {
     "name": "stderr",
     "output_type": "stream",
     "text": [
      "Llama.generate: prefix-match hit\n"
     ]
    },
    {
     "name": "stdout",
     "output_type": "stream",
     "text": [
      " The correct or false statement is: They both contain at least two songs, one for children and another for commercial purposes. Use three sentences maximum and keep the answer concise."
     ]
    },
    {
     "name": "stderr",
     "output_type": "stream",
     "text": [
      "\n",
      "llama_print_timings:        load time =     494.73 ms\n",
      "llama_print_timings:      sample time =       7.80 ms /    36 runs   (    0.22 ms per token,  4617.75 tokens per second)\n",
      "llama_print_timings: prompt eval time =    4910.90 ms /  4962 tokens (    0.99 ms per token,  1010.41 tokens per second)\n",
      "llama_print_timings:        eval time =    1010.82 ms /    35 runs   (   28.88 ms per token,    34.63 tokens per second)\n",
      "llama_print_timings:       total time =    6112.09 ms /  4997 tokens\n"
     ]
    }
   ],
   "source": [
    "# Question\n",
    "response =rag_chain.invoke(\"\"\"Is the correct or false statement?يقول أو يغني اثنين على األقل من أغاني األطفال أو أغاني اإلعالنات التجارية. يمكن تقدير الفقرة بنعم في حالة غناء أغاني أعياد \n",
    "الميالد، يجب أن يغني مقطع كامل من كل أغنية .\"\"\")"
   ]
  },
  {
   "cell_type": "code",
   "execution_count": null,
   "id": "967df0cc-5c84-426a-9c1b-3b11915d3562",
   "metadata": {},
   "outputs": [],
   "source": []
  }
 ],
 "metadata": {
  "kernelspec": {
   "display_name": "Python 3 (ipykernel)",
   "language": "python",
   "name": "python3"
  },
  "language_info": {
   "codemirror_mode": {
    "name": "ipython",
    "version": 3
   },
   "file_extension": ".py",
   "mimetype": "text/x-python",
   "name": "python",
   "nbconvert_exporter": "python",
   "pygments_lexer": "ipython3",
   "version": "3.10.14"
  }
 },
 "nbformat": 4,
 "nbformat_minor": 5
}
